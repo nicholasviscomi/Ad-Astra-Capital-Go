{
 "cells": [
  {
   "attachments": {},
   "cell_type": "markdown",
   "metadata": {},
   "source": [
    "## Data Preparation"
   ]
  },
  {
   "cell_type": "code",
   "execution_count": 2,
   "metadata": {},
   "outputs": [],
   "source": [
    "from typing import Optional\n",
    "from dataclasses import dataclass\n",
    "import pickle\n",
    "from datetime import datetime as dt\n",
    "from datetime import date\n",
    "import pandas as pd\n",
    "import matplotlib.pyplot as plt\n",
    "from scipy.signal import find_peaks\n",
    "import numpy as np\n",
    "import os"
   ]
  },
  {
   "attachments": {},
   "cell_type": "markdown",
   "metadata": {},
   "source": [
    "### Necesarry Helper Functions"
   ]
  },
  {
   "cell_type": "code",
   "execution_count": 3,
   "metadata": {},
   "outputs": [],
   "source": [
    "@dataclass\n",
    "class Form:\n",
    "    # Same for both sources\n",
    "    filing_date: str\n",
    "    trade_date: str\n",
    "    ticker: str\n",
    "    price: float\n",
    "    qty_bought: float\n",
    "    qty_owned: float\n",
    "\n",
    "    #Source: openinsider.com\n",
    "    insider_name_link: Optional[str] = None \n",
    "    company_link: Optional[str] = None\n",
    "    buyer_title: Optional[str] = None\n",
    "    \n",
    "    #Source: SEC Bulk Data\n",
    "    accession_number: Optional[str] = None\n",
    "    insider_name: Optional[str] = None \n",
    "    company_name: Optional[str] = None\n",
    "    insider_relationship: Optional[str] = None \n",
    "    insider_title: Optional[str] = None \n",
    "    fd_index: Optional[int] = None\n",
    "\n",
    "    def __eq__(self, other) -> bool:\n",
    "        return self.filing_date == other.filing_date and self.trade_date == other.trade_date and self.ticker == other.ticker and self.price == other.price and self.qty_bought == other.qty_bought and self.qty_owned == self.qty_owned\n",
    "    \n",
    "    def __ne__(self, other) -> bool:\n",
    "        return not self.__eq__(other)\n",
    "    \n",
    "    def delta_own(self):\n",
    "        if self.qty_owned is None or self.qty_bought is None: raise ValueError(\"Class values were None\")\n",
    "\n",
    "        if self.qty_owned - self.qty_bought == 0:\n",
    "            return 100\n",
    "        else:\n",
    "            return float(self.qty_bought / (self.qty_owned - self.qty_bought)) * 100\n",
    "\n",
    "    def days_ago(self) -> int:\n",
    "        if self.filing_date is None or self.trade_date is None:\n",
    "            raise ValueError(\"Class values were None\")\n",
    "        fd = dt.strptime(self.filing_date, \"%Y-%m-%d\")\n",
    "        td = dt.strptime(self.trade_date,  \"%Y-%m-%d\")\n",
    "        return (fd - td).days\n",
    "  \n",
    "def save_data(data, fname):\n",
    "    \"\"\"\n",
    "    base path is Assets folder\n",
    "    \"\"\"\n",
    "    with open(f\"Assets/{fname}.pkl\", \"wb\") as file:\n",
    "        pickle.dump(data, file)\n",
    "\n",
    "def load_data(fname) -> list:\n",
    "    with open(f\"Assets/{fname}.pkl\", \"rb\") as file:\n",
    "        data = pickle.load(file)\n",
    "        return data\n",
    "\n",
    "def tickers_from_data(forms: list[Form]):\n",
    "    tickers = {}\n",
    "    for form in forms:\n",
    "        tickers[form.ticker] = 1\n",
    "\n",
    "    return [key for key in tickers.keys()]\n",
    "\n",
    "@dataclass\n",
    "class Candle:\n",
    "    date: str\n",
    "    o: float\n",
    "    c: float\n",
    "    h: float\n",
    "    l: float\n",
    "    v: int\n",
    "\n",
    "@dataclass(repr=False)\n",
    "class Trade:\n",
    "    form: Form\n",
    "    candles: list[Candle]\n",
    "    onem_profit: Optional[float] = None\n",
    "    twom_profit: Optional[float] = None\n",
    "    threem_profit: Optional[float] = None\n",
    "\n",
    "    def __repr__(self) -> str:\n",
    "        return f\"{self.form.insider_name} ({self.form.insider_relationship}): {self.form.qty_bought} {self.form.ticker} @ {self.form.price} on {self.form.filing_date} ({self.form.accession_number})\"\n",
    "\n",
    "    def catalyst_size(self, shift):\n",
    "        \"\"\"\n",
    "        NOTE: candles[0] needs to be at the filing date, and candles[-1] should be the final day\\n\n",
    "        @param n_days is how many days after the filing date the calculations should consider\\n\n",
    "        @param shift is how many days each peak should be shifted to the right by\n",
    "        \"\"\"\n",
    "        avg_peak_val: float = 0.0\n",
    "\n",
    "        closes = [c.c for c in self.candles]\n",
    "        _, peaks = get_peaks(closes, shift)\n",
    "        \n",
    "        if len(peaks) != 0:\n",
    "            for peak in peaks:\n",
    "                avg_peak_val += self.candles[peak].c\n",
    "                # print(f\"{self.candles[peak].c}, {peak}\")\n",
    "            avg_peak_val /= len(peaks)\n",
    "            # print(f\"AVG PEAK: {avg_peak_val}\")\n",
    "            # print(f\"First Close: {self.candles[0].c}\")\n",
    "            return pct_change(self.candles[0].c, avg_peak_val)\n",
    "        \n",
    "        # if there are no peaks (sad face), return absolute change\n",
    "        return pct_change(closes[0], closes[-1])\n",
    "    \n",
    "    def returns(self, days: int, candles: list[Candle] = []) -> float:\n",
    "        \"\"\"\n",
    "        Percent return over (@param days) number of days from close to close\\n\n",
    "        Negative days shows past returns up to the filing date\\n\n",
    "        Used to check the passivity of a certain transaction\\n\n",
    "        \"\"\"\n",
    "        if days > 0:\n",
    "            if len(self.candles) > days:\n",
    "                return pct_change(self.candles[0].c, self.candles[days - 1].c)\n",
    "            \n",
    "        data = []\n",
    "        if len(candles) == 0:\n",
    "            data = get_ticker_data(self.form.ticker)\n",
    "            assert data is not None\n",
    "        else: \n",
    "            data = candles\n",
    "\n",
    "        fdi = self.form.fd_index\n",
    "        assert fdi is not None\n",
    "    \n",
    "        if days < 0:\n",
    "            data = trim_ticker_data(data, fdi, (-days, 1))\n",
    "        elif days > 0:\n",
    "            data = trim_ticker_data(data, fdi, (0, days))\n",
    "        else: return 0\n",
    "\n",
    "        return pct_change(data[0].c, data[-1].c)\n",
    "    \n",
    "def moving_avg(data: list, length: int):\n",
    "    new_data = []\n",
    "    window = []\n",
    "    for d in data:\n",
    "        if len(window) <= length:\n",
    "            window.append(d)\n",
    "        else:\n",
    "            window = window[1:]\n",
    "            window.append(d)\n",
    "\n",
    "        new_data.append(sum(window)/len(window))\n",
    "    return new_data\n",
    "\n",
    "def pct_change(from_, to_):\n",
    "    return ((to_ - from_) / from_) * 100\n",
    "\n",
    "def get_peaks(price_data: list, shift: int):\n",
    "    \"\"\"\n",
    "    @param price_data: list of prices (typically the closing prices)\\n\n",
    "    @param shift: move each peak to the right n-days because seldom will you exit at the true peak of a stock\\n\n",
    "    \"\"\"\n",
    "    ma = moving_avg(price_data, 7)\n",
    "\n",
    "    dist = 7\n",
    "    height_multiplier = 1.05\n",
    "    peaks, _ = find_peaks(ma, distance=dist, height=ma[0] * height_multiplier, width=5) # one week between peaks and peak must be a 5% increase from day 0\n",
    "\n",
    "\n",
    "    while len(peaks) == 0 and dist >= 1:\n",
    "        peaks, _ = find_peaks(ma, distance=dist, width=5) # one week between peaks and peak must be a 5% increase from day 0\n",
    "        dist -= 1\n",
    "\n",
    "    if pct_change(ma[0], ma[-1]) > 5:\n",
    "        peaks = list(peaks)\n",
    "\n",
    "        s = 0.0\n",
    "        for p in peaks:\n",
    "            s += ma[p]\n",
    "\n",
    "        avg_peak_height = s/len(peaks)\n",
    "        if ma[-2] > avg_peak_height:\n",
    "            peaks.append(len(ma) - 2) # add second index from the end\n",
    "\n",
    "    if len(peaks) == 0: return [], []\n",
    "\n",
    "    for i in range(len(peaks)):\n",
    "        if i < len(peaks) - 1:\n",
    "            peaks[i] += shift \n",
    "\n",
    "    return ma, peaks\n",
    "\n",
    "def show_trade(trade: Trade, show_peaks: bool):\n",
    "    prices = pd.DataFrame({\n",
    "        \"high\"  : [candle.h  for candle in trade.candles],\n",
    "        \"low\"   : [candle.l  for candle in trade.candles],\n",
    "        \"open\"  : [candle.o  for candle in trade.candles],\n",
    "        \"close\" : [candle.c  for candle in trade.candles]\n",
    "    })\n",
    "    green  = prices[prices.close >= prices.open] # green candles\n",
    "    red    = prices[prices.close < prices.open] # red candles\n",
    "    w1, w2 = 0.4, 0.02 # width of thick part and width of extrema\n",
    "\n",
    "    _, ax = plt.subplots()\n",
    "    # graph green candles (x, height, width, bottom, color)\n",
    "    ax.bar(green.index, green.close - green.open, w1, green.open, color='green') # thick middle part\n",
    "    ax.bar(green.index, green.high  - green.close, w2, green.close, color='black') # high price\n",
    "    ax.bar(green.index, green.low  - green.open, w2, green.open, color='black') # low price\n",
    "    \n",
    "    ax.bar(red.index, red.close - red.open, w1, red.open, color='red') # thick middle part\n",
    "    ax.bar(red.index, red.high  - red.open, w2, red.open, color='black') # high price\n",
    "    ax.bar(red.index, red.low   - red.close, w2, red.close, color='black') # low price\n",
    "\n",
    "    if show_peaks:\n",
    "        ma, peaks = get_peaks(list(prices.close.array), 3)\n",
    "        ax.plot(ma)\n",
    "        \n",
    "        for peak in peaks:\n",
    "            ax.plot(peak, list(prices.close.array)[peak], \"bo\")\n",
    "\n",
    "\n",
    "    title = f\"{trade.form.ticker} @ {trade.candles[0].date} (FD: {trade.form.filing_date}, TD: {trade.form.trade_date})\"\n",
    "\n",
    "    ax.set_title(title)\n",
    "    plt.show()\n",
    "\n",
    "def get_ticker_data(ticker: str):\n",
    "    \"\"\"\n",
    "    open and return the data associated with a certain ticker\\n\n",
    "    returns None is no data are found\n",
    "    \"\"\"\n",
    "    contents = os.listdir(f\"Assets/Historical_Stock_Data\")\n",
    "    if f\"{ticker}.pkl\" not in contents: return None\n",
    "    else: return load_data(f\"Historical_Stock_Data/{ticker}\")\n",
    "\n",
    "def trim_ticker_data(data: list[Candle], fd_index: int, window: tuple[int, int]):\n",
    "    \"\"\"\n",
    "    @param window is a tuple of how many candles should be included before and after the filing date\\n\n",
    "    \\t --> i.e. (10, 100) means to show from 10 days before to 100 days after\n",
    "    \"\"\"\n",
    "    start = fd_index - window[0] if fd_index - window[0] >= 0 else 0\n",
    "    end = fd_index + window[1] if fd_index + window[1] < len(data) else len(data) - 1\n",
    "    data = data[start : end]\n",
    "    return data\n",
    "\n",
    "def trade_from_histform(form: Form, n_days):\n",
    "    \"\"\"\n",
    "    returns trade object with candles from fd up to (fd + n_days)\n",
    "    \"\"\"\n",
    "    data = get_ticker_data(form.ticker)\n",
    "    if data is None: return\n",
    "\n",
    "    i = form.fd_index\n",
    "    if i is None: \n",
    "        print(\"❌FDI NOT FOUND\")\n",
    "        return\n",
    "\n",
    "    data = data[i:i + n_days]\n",
    "\n",
    "    trade = Trade(\n",
    "        form,\n",
    "        data\n",
    "    )\n",
    "\n",
    "    return trade\n",
    "\n",
    "def show_hist_trade(form: Form, n_days: int, show_peaks: bool):\n",
    "    if form.ticker is None: return\n",
    "    if form.filing_date is None: return\n",
    "\n",
    "    data = get_ticker_data(form.ticker)\n",
    "    if data is None: return\n",
    "\n",
    "    i = form.fd_index\n",
    "    if i is None: \n",
    "        print(\"❌FDI NOT FOUND\")\n",
    "        return\n",
    "\n",
    "    data = data[i : i + n_days]\n",
    "\n",
    "    trade = Trade(\n",
    "        form,\n",
    "        data\n",
    "    )\n",
    "\n",
    "    show_trade(trade, show_peaks)\n",
    "\n",
    "    return trade"
   ]
  },
  {
   "attachments": {},
   "cell_type": "markdown",
   "metadata": {},
   "source": [
    "### Load in Data"
   ]
  },
  {
   "cell_type": "code",
   "execution_count": 5,
   "metadata": {},
   "outputs": [],
   "source": [
    "forms: list[Form] = load_data(\"HistForms\")"
   ]
  },
  {
   "cell_type": "code",
   "execution_count": 6,
   "metadata": {},
   "outputs": [
    {
     "name": "stdout",
     "output_type": "stream",
     "text": [
      "100.00%\r"
     ]
    }
   ],
   "source": [
    "l = len(forms)\n",
    "trades: list[Trade] = []\n",
    "for i, form in enumerate(forms):\n",
    "    print(f\"{i/(l - 1)*100:.2f}%\", end='\\r')\n",
    "    t = trade_from_histform(form, 100)\n",
    "    if t is not None: # * this line ensures each trade has data!\n",
    "        trades.append(t)\n",
    "\n",
    "trades = list(filter(lambda x: len(x.candles) > 0 and x.candles is not None, trades)) # filter such that..."
   ]
  },
  {
   "cell_type": "code",
   "execution_count": 4,
   "metadata": {},
   "outputs": [],
   "source": [
    "trades = load_data(\"Trades\")"
   ]
  },
  {
   "attachments": {},
   "cell_type": "markdown",
   "metadata": {},
   "source": [
    "### Ensure Successful Loading"
   ]
  },
  {
   "cell_type": "code",
   "execution_count": null,
   "metadata": {},
   "outputs": [],
   "source": [
    "trade = show_hist_trade(trades[10].form, 100, False) # set result to a variable so it doesn't print it out"
   ]
  },
  {
   "cell_type": "code",
   "execution_count": null,
   "metadata": {},
   "outputs": [],
   "source": [
    "trades[10].returns(30)"
   ]
  },
  {
   "cell_type": "code",
   "execution_count": null,
   "metadata": {},
   "outputs": [],
   "source": [
    "trades[10].returns(60)"
   ]
  },
  {
   "cell_type": "code",
   "execution_count": null,
   "metadata": {},
   "outputs": [],
   "source": [
    "trades[10].returns(90)"
   ]
  },
  {
   "attachments": {},
   "cell_type": "markdown",
   "metadata": {},
   "source": [
    "### Track the Insider and Company in Question"
   ]
  },
  {
   "cell_type": "code",
   "execution_count": 5,
   "metadata": {},
   "outputs": [],
   "source": [
    "def get_insider_and_company_dict(trades: list[Trade]) -> tuple[dict[str, list[Trade]], dict[str, list[Trade]]]:\n",
    "    # get dictionary of \"insider name\" : [forms...]\n",
    "    insider_dict: dict[str, list[Trade]] = {}\n",
    "    # get dictionary of \"ticker\" : [forms...]\n",
    "    company_dict: dict[str, list[Trade]] = {}\n",
    "\n",
    "    for trade in trades:\n",
    "        iname = trade.form.insider_name\n",
    "        if iname is None: continue\n",
    "        if iname not in insider_dict:\n",
    "            insider_dict[iname] = [trade]\n",
    "        else:\n",
    "            insider_dict[iname].append(trade)\n",
    "\n",
    "        cname = trade.form.ticker\n",
    "        if cname is None: continue\n",
    "        if cname not in company_dict:\n",
    "            company_dict[cname] = [trade]\n",
    "        else:\n",
    "            company_dict[cname].append(trade)\n",
    "        \n",
    "    return insider_dict, company_dict"
   ]
  },
  {
   "cell_type": "code",
   "execution_count": 6,
   "metadata": {},
   "outputs": [],
   "source": [
    "def get_cluster_score(curr: Trade, company_trades: list[Trade]):\n",
    "    cd = dt.strptime(curr.form.trade_date, \"%Y-%m-%d\")\n",
    "\n",
    "    cluster_score = 0\n",
    "\n",
    "    # filter such that every trade in the comapnies history is from before the current trades filing date\n",
    "    for t in list(filter(lambda x: dt.strptime(x.form.trade_date, \"%Y-%m-%d\") <= cd and x.form.accession_number != curr.form.accession_number, company_trades)):\n",
    "        td = dt.strptime(t.form.trade_date, \"%Y-%m-%d\")\n",
    "        if (cd - td).days < 30:\n",
    "            cluster_score += 1\n",
    "    \n",
    "    return cluster_score"
   ]
  },
  {
   "attachments": {},
   "cell_type": "markdown",
   "metadata": {},
   "source": [
    "### Map Insider Job Title to Numbers"
   ]
  },
  {
   "attachments": {},
   "cell_type": "markdown",
   "metadata": {},
   "source": [
    "- Other = 1\n",
    "- 10% owners = 2\n",
    "- Director = 3\n",
    "- Officer = 4\n",
    "- Vice President (EVP or SVP) = 5\n",
    "- President = 6"
   ]
  },
  {
   "cell_type": "code",
   "execution_count": 7,
   "metadata": {},
   "outputs": [],
   "source": [
    "def map_insider_title(f: Form) -> int:\n",
    "    r = f.insider_relationship\n",
    "    assert r is not None\n",
    "    r = r.lower()\n",
    "\n",
    "    if \"other\" in r:\n",
    "        return 1\n",
    "\n",
    "    if \"tenpercentowner\" in r:\n",
    "        return 2\n",
    "    \n",
    "    if \"director\" in r:\n",
    "        return 3\n",
    "    \n",
    "    if \"officer\" in r:\n",
    "        t = f.insider_title\n",
    "        assert t is not None\n",
    "        t = t.lower()\n",
    "\n",
    "        if \"vice president\" in t or \"svp\" in t or \"evp\" in t:\n",
    "            # must be before the check for president\n",
    "            return 5\n",
    "        \n",
    "        if \"president\" in t:\n",
    "            return 6\n",
    "        \n",
    "        return 4\n",
    "\n",
    "    #* tested on all forms and never reached\n",
    "    return 0"
   ]
  },
  {
   "attachments": {},
   "cell_type": "markdown",
   "metadata": {},
   "source": [
    "### Determine Output Profit Ranges"
   ]
  },
  {
   "cell_type": "code",
   "execution_count": 14,
   "metadata": {},
   "outputs": [],
   "source": [
    "import numpy as np\n",
    "\n",
    "data = []\n",
    "\n",
    "l = len(trades)\n",
    "for i, t in enumerate(trades):\n",
    "    data.append(\n",
    "        sum([t.returns(30), t.returns(60), t.returns(90)])/3\n",
    "    )\n",
    "\n",
    "median = np.median(data)\n",
    "q3 = np.percentile(data, 75)\n",
    "q1 = np.percentile(data, 25)\n",
    "\n",
    "iqr = q3 - q1\n",
    "upper_outlier = q3+1.5*iqr\n",
    "lower_outlier = q1-1.5*iqr\n",
    "upper_whisker = max(list(filter(lambda x: x <= upper_outlier, data)))\n",
    "lower_whisker = min(list(filter(lambda x: x >= lower_outlier, data)))"
   ]
  },
  {
   "attachments": {},
   "cell_type": "markdown",
   "metadata": {},
   "source": [
    "##### Output Profit Ranges (%)\n",
    "\n",
    "- Outlier Profit = >50\n",
    "- Big Profit = (14, 50]\n",
    "- Moderate Profit = (1-14]\n",
    "- Stagnation = [-1, 1]\n",
    "- Moderate Loss = (-1, -10]\n",
    "- Big Loss = (-10, -46]\n",
    "- Outlier Loss = <-46"
   ]
  },
  {
   "attachments": {},
   "cell_type": "markdown",
   "metadata": {},
   "source": [
    "## Neural Network Development"
   ]
  },
  {
   "cell_type": "code",
   "execution_count": 16,
   "metadata": {},
   "outputs": [],
   "source": [
    "import tensorflow as tf\n",
    "keras = tf.keras"
   ]
  },
  {
   "cell_type": "code",
   "execution_count": 8,
   "metadata": {},
   "outputs": [
    {
     "name": "stdout",
     "output_type": "stream",
     "text": [
      " 100.00%\r"
     ]
    }
   ],
   "source": [
    "i_dict, c_dict = get_insider_and_company_dict(trades)\n",
    "\n",
    "data = []\n",
    "labels = []\n",
    "l = len(trades)\n",
    "for i, trade in enumerate(trades):\n",
    "    print(f\"{i/(l - 1)*100: .2f}%\", end=\"\\r\")\n",
    "    try:\n",
    "        name = trade.form.insider_name\n",
    "        if name is None: continue\n",
    "        fd = dt.strptime(trades[i].form.filing_date,  \"%Y-%m-%d\")\n",
    "\n",
    "        # only include an insider's trades from the PAST\n",
    "        i_trades = list(filter(lambda x: dt.strptime(x.form.filing_date, \"%Y-%m-%d\") < fd, i_dict[name]))\n",
    "\n",
    "        i_profits = []\n",
    "        for i_trade in i_trades:\n",
    "            # must calculate the returns up to the filing date of the current trade to simulate placing a trade on that specific day\n",
    "            if trades[i].form.filing_date is None or i_trade.form.filing_date is None: raise ValueError(\"values were None\")\n",
    "            \n",
    "            it_fd = dt.strptime(i_trade.form.filing_date, \"%Y-%m-%d\")\n",
    "            delta = (fd - it_fd).days # correct\n",
    "\n",
    "            if delta < 90:\n",
    "                # because the difference between each candle is not always 1 day (weekends), returns(delta) is too far\n",
    "                # into the future. Must find the index of teh desired filing date\n",
    "                delta_index = -1\n",
    "                for i, c in enumerate(i_trade.candles):\n",
    "                    if c.date == fd.strftime(\"%m/%d/%Y\"):\n",
    "                        delta_index = i\n",
    "                        \n",
    "                if delta_index == -1: raise ValueError(\"Delta Index still -1\")\n",
    "                new_price_per_share = i_trade.form.price + (i_trade.form.price * i_trade.returns(delta_index)/100)\n",
    "            else:\n",
    "                new_price_per_share = i_trade.form.price + (i_trade.form.price * i_trade.returns(90)/100)\n",
    "        \n",
    "            i_profits.append(\n",
    "                (new_price_per_share - i_trade.form.price) * i_trade.form.qty_bought\n",
    "            )\n",
    "\n",
    "        row = [\n",
    "            trade.form.qty_bought, trade.form.price, trade.form.delta_own(), map_insider_title(trade.form),\n",
    "            trade.returns(-30), get_cluster_score(trade, c_dict[trade.form.ticker]), trade.form.days_ago(),    \n",
    "        ]\n",
    "        if len(i_profits) > 0:\n",
    "            row.append(sum(i_profits)/len(i_profits))\n",
    "        else:\n",
    "            row.append(0)\n",
    "\n",
    "        data.append(row)\n",
    "\n",
    "        profit = trade.returns(90)\n",
    "        zeros = np.zeros(7)\n",
    "        if profit > 50:\n",
    "            zeros[0] = 1\n",
    "        elif profit > 14 and profit <= 50:\n",
    "            zeros[1] = 1\n",
    "        elif profit > 1 and profit <= 14:\n",
    "            zeros[2] = 1\n",
    "        elif profit >= -1 and profit <= 1:\n",
    "            zeros[3] = 1\n",
    "        elif profit < -1 and profit >= -10:\n",
    "            zeros[4] = 1\n",
    "        elif profit < -10 and profit >= -46:\n",
    "            zeros[5] = 1\n",
    "        elif profit < -46:\n",
    "            zeros[6] = 1\n",
    "\n",
    "        labels.append(zeros)\n",
    "    except Exception as err:\n",
    "        # print(f\"{type(err)} @ {i}\")\n",
    "        pass"
   ]
  },
  {
   "cell_type": "code",
   "execution_count": 129,
   "metadata": {},
   "outputs": [],
   "source": [
    "data = load_data(\"StructuredData\")\n",
    "labels = load_data(\"Labels\")"
   ]
  },
  {
   "cell_type": "code",
   "execution_count": 103,
   "metadata": {},
   "outputs": [],
   "source": [
    "# Restructure outputs to profit, stagnation, and loss\n",
    "for i, label in enumerate(labels):\n",
    "    label = list(label)\n",
    "    if label.index(1) < 3:\n",
    "        labels[i] = [1, 0, 0]\n",
    "    elif label.index(1) == 3:\n",
    "        labels[i] = [0, 1, 0]\n",
    "    elif label.index(1) > 3:\n",
    "        labels[i] = [0, 0, 1]"
   ]
  },
  {
   "cell_type": "code",
   "execution_count": 41,
   "metadata": {},
   "outputs": [],
   "source": [
    "def print_input_data(row):\n",
    "    print(\n",
    "    f\"\"\"\n",
    "    # Shares:       {row[0]}\n",
    "    Share Price:    {row[1]}\n",
    "    %∆ Ownership:   {row[2]}\n",
    "    Insider Pos.:   {row[3]}\n",
    "    returns(-30):   {row[4]}\n",
    "    Cluster buying: {row[5]}\n",
    "    FD - TD:        {row[6]}\n",
    "    Insider Profit: {row[7]}\n",
    "    \"\"\")"
   ]
  },
  {
   "cell_type": "code",
   "execution_count": 82,
   "metadata": {},
   "outputs": [],
   "source": [
    "from sklearn.preprocessing import Normalizer\n",
    "import math\n",
    "\n",
    "norm_data = Normalizer().fit_transform(data)"
   ]
  },
  {
   "cell_type": "code",
   "execution_count": 106,
   "metadata": {},
   "outputs": [],
   "source": [
    "train_data, train_labels = np.array(data[:math.floor(len(data)*5/6)]), np.array(labels[:math.floor(len(labels)*5/6)])\n",
    "test_data, test_labels = np.array(data[math.floor(len(data)*5/6):]), np.array(labels[math.floor(len(labels)*5/6):])"
   ]
  },
  {
   "cell_type": "code",
   "execution_count": 115,
   "metadata": {},
   "outputs": [],
   "source": [
    "train_data, train_labels = np.array(norm_data[:math.floor(len(norm_data)*5/6)]), np.array(labels[:math.floor(len(labels)*5/6)])\n",
    "test_data, test_labels = np.array(norm_data[math.floor(len(norm_data)*5/6):]), np.array(labels[math.floor(len(labels)*5/6):])"
   ]
  },
  {
   "cell_type": "code",
   "execution_count": 116,
   "metadata": {},
   "outputs": [],
   "source": [
    "os.environ['TF_CPP_MIN_LOG_LEVEL'] = '2' # hide warnings\n",
    "\n",
    "model = tf.keras.Sequential([\n",
    "    tf.keras.layers.Input(shape=(train_data.shape[1],)),\n",
    "    tf.keras.layers.Dense(150, activation='relu', kernel_initializer='HeNormal'),\n",
    "    tf.keras.layers.Dense(100, activation='relu', kernel_initializer='HeNormal'),\n",
    "    tf.keras.layers.Dense(len(labels[0]), activation='softmax', kernel_initializer='HeNormal')\n",
    "])\n",
    "\n",
    "model.compile(\n",
    "    optimizer=tf.keras.optimizers.Adam(),\n",
    "    loss=tf.keras.losses.MeanSquaredLogarithmicError(),\n",
    "    metrics=['accuracy']\n",
    ")"
   ]
  },
  {
   "cell_type": "code",
   "execution_count": 117,
   "metadata": {},
   "outputs": [
    {
     "name": "stdout",
     "output_type": "stream",
     "text": [
      "\n",
      "    # Shares:       0.004700126567411786\n",
      "    Share Price:    5.812651940254285e-06\n",
      "    %∆ Ownership:   2.088556205494082e-07\n",
      "    Insider Pos.:   3.448621738507437e-07\n",
      "    returns(-30):   -9.301838022544204e-07\n",
      "    Cluster buying: 1.7243108692537186e-07\n",
      "    FD - TD:        1.7243108692537186e-07\n",
      "    Insider Profit: 0.9999889543266847\n",
      "    \n",
      "[1 0 0]\n"
     ]
    }
   ],
   "source": [
    "print_input_data(train_data[0])\n",
    "print(train_labels[0])"
   ]
  },
  {
   "cell_type": "code",
   "execution_count": 118,
   "metadata": {},
   "outputs": [
    {
     "name": "stdout",
     "output_type": "stream",
     "text": [
      "Epoch 1/50\n",
      "981/981 [==============================] - 2s 1ms/step - loss: 0.0862 - accuracy: 0.5431\n",
      "Epoch 2/50\n",
      "981/981 [==============================] - 1s 1ms/step - loss: 0.0853 - accuracy: 0.5512\n",
      "Epoch 3/50\n",
      "981/981 [==============================] - 1s 1ms/step - loss: 0.0849 - accuracy: 0.5533\n",
      "Epoch 4/50\n",
      "981/981 [==============================] - 1s 1ms/step - loss: 0.0844 - accuracy: 0.5575\n",
      "Epoch 5/50\n",
      "981/981 [==============================] - 1s 1ms/step - loss: 0.0842 - accuracy: 0.5614\n",
      "Epoch 6/50\n",
      "981/981 [==============================] - 1s 1ms/step - loss: 0.0838 - accuracy: 0.5634\n",
      "Epoch 7/50\n",
      "981/981 [==============================] - 1s 1ms/step - loss: 0.0836 - accuracy: 0.5627\n",
      "Epoch 8/50\n",
      "981/981 [==============================] - 1s 1ms/step - loss: 0.0835 - accuracy: 0.5637\n",
      "Epoch 9/50\n",
      "981/981 [==============================] - 1s 1ms/step - loss: 0.0833 - accuracy: 0.5657\n",
      "Epoch 10/50\n",
      "981/981 [==============================] - 1s 1ms/step - loss: 0.0833 - accuracy: 0.5647\n",
      "Epoch 11/50\n",
      "981/981 [==============================] - 1s 1ms/step - loss: 0.0832 - accuracy: 0.5660\n",
      "Epoch 12/50\n",
      "981/981 [==============================] - 1s 1ms/step - loss: 0.0832 - accuracy: 0.5658\n",
      "Epoch 13/50\n",
      "981/981 [==============================] - 1s 1ms/step - loss: 0.0831 - accuracy: 0.5671\n",
      "Epoch 14/50\n",
      "981/981 [==============================] - 1s 1ms/step - loss: 0.0830 - accuracy: 0.5655\n",
      "Epoch 15/50\n",
      "981/981 [==============================] - 1s 1ms/step - loss: 0.0830 - accuracy: 0.5667\n",
      "Epoch 16/50\n",
      "981/981 [==============================] - 1s 1ms/step - loss: 0.0830 - accuracy: 0.5667\n",
      "Epoch 17/50\n",
      "981/981 [==============================] - 1s 1ms/step - loss: 0.0829 - accuracy: 0.5663\n",
      "Epoch 18/50\n",
      "981/981 [==============================] - 1s 1ms/step - loss: 0.0829 - accuracy: 0.5666\n",
      "Epoch 19/50\n",
      "981/981 [==============================] - 1s 1ms/step - loss: 0.0829 - accuracy: 0.5664\n",
      "Epoch 20/50\n",
      "981/981 [==============================] - 1s 1ms/step - loss: 0.0828 - accuracy: 0.5669\n",
      "Epoch 21/50\n",
      "981/981 [==============================] - 1s 1ms/step - loss: 0.0828 - accuracy: 0.5667\n",
      "Epoch 22/50\n",
      "981/981 [==============================] - 1s 1ms/step - loss: 0.0828 - accuracy: 0.5674\n",
      "Epoch 23/50\n",
      "981/981 [==============================] - 1s 1ms/step - loss: 0.0828 - accuracy: 0.5673\n",
      "Epoch 24/50\n",
      "981/981 [==============================] - 1s 1ms/step - loss: 0.0827 - accuracy: 0.5677\n",
      "Epoch 25/50\n",
      "981/981 [==============================] - 1s 1ms/step - loss: 0.0827 - accuracy: 0.5669\n",
      "Epoch 26/50\n",
      "981/981 [==============================] - 1s 1ms/step - loss: 0.0829 - accuracy: 0.5666\n",
      "Epoch 27/50\n",
      "981/981 [==============================] - 1s 1ms/step - loss: 0.0828 - accuracy: 0.5669\n",
      "Epoch 28/50\n",
      "981/981 [==============================] - 1s 1ms/step - loss: 0.0827 - accuracy: 0.5677\n",
      "Epoch 29/50\n",
      "981/981 [==============================] - 1s 1ms/step - loss: 0.0826 - accuracy: 0.5671\n",
      "Epoch 30/50\n",
      "981/981 [==============================] - 1s 1ms/step - loss: 0.0830 - accuracy: 0.5668\n",
      "Epoch 31/50\n",
      "981/981 [==============================] - 1s 1ms/step - loss: 0.0826 - accuracy: 0.5671\n",
      "Epoch 32/50\n",
      "981/981 [==============================] - 1s 1ms/step - loss: 0.0826 - accuracy: 0.5678\n",
      "Epoch 33/50\n",
      "981/981 [==============================] - 1s 1ms/step - loss: 0.0825 - accuracy: 0.5682\n",
      "Epoch 34/50\n",
      "981/981 [==============================] - 1s 1ms/step - loss: 0.0826 - accuracy: 0.5675\n",
      "Epoch 35/50\n",
      "981/981 [==============================] - 1s 1ms/step - loss: 0.0825 - accuracy: 0.5681\n",
      "Epoch 36/50\n",
      "981/981 [==============================] - 1s 1ms/step - loss: 0.0825 - accuracy: 0.5683\n",
      "Epoch 37/50\n",
      "981/981 [==============================] - 1s 1ms/step - loss: 0.0824 - accuracy: 0.5688\n",
      "Epoch 38/50\n",
      "981/981 [==============================] - 1s 1ms/step - loss: 0.0824 - accuracy: 0.5676\n",
      "Epoch 39/50\n",
      "981/981 [==============================] - 1s 1ms/step - loss: 0.0824 - accuracy: 0.5691\n",
      "Epoch 40/50\n",
      "981/981 [==============================] - 1s 1ms/step - loss: 0.0824 - accuracy: 0.5693\n",
      "Epoch 41/50\n",
      "981/981 [==============================] - 1s 1ms/step - loss: 0.0824 - accuracy: 0.5684\n",
      "Epoch 42/50\n",
      "981/981 [==============================] - 1s 1ms/step - loss: 0.0824 - accuracy: 0.5689\n",
      "Epoch 43/50\n",
      "981/981 [==============================] - 1s 1ms/step - loss: 0.0823 - accuracy: 0.5687\n",
      "Epoch 44/50\n",
      "981/981 [==============================] - 1s 1ms/step - loss: 0.0823 - accuracy: 0.5685\n",
      "Epoch 45/50\n",
      "981/981 [==============================] - 1s 1ms/step - loss: 0.0823 - accuracy: 0.5692\n",
      "Epoch 46/50\n",
      "981/981 [==============================] - 1s 1ms/step - loss: 0.0822 - accuracy: 0.5693\n",
      "Epoch 47/50\n",
      "981/981 [==============================] - 1s 1ms/step - loss: 0.0822 - accuracy: 0.5692\n",
      "Epoch 48/50\n",
      "981/981 [==============================] - 1s 1ms/step - loss: 0.0822 - accuracy: 0.5689\n",
      "Epoch 49/50\n",
      "981/981 [==============================] - 1s 1ms/step - loss: 0.0821 - accuracy: 0.5697\n",
      "Epoch 50/50\n",
      "981/981 [==============================] - 1s 1ms/step - loss: 0.0821 - accuracy: 0.5702\n"
     ]
    }
   ],
   "source": [
    "history = model.fit(train_data, train_labels, epochs=50)"
   ]
  },
  {
   "cell_type": "code",
   "execution_count": 120,
   "metadata": {},
   "outputs": [
    {
     "name": "stdout",
     "output_type": "stream",
     "text": [
      "197/197 [==============================] - 0s 1ms/step - loss: 0.0903 - accuracy: 0.4637\n"
     ]
    }
   ],
   "source": [
    "test_loss, test_acc = model.evaluate(test_data, test_labels)"
   ]
  },
  {
   "cell_type": "code",
   "execution_count": 121,
   "metadata": {},
   "outputs": [],
   "source": [
    "model.save(\"Models/Norm-150tanh-100-relu-3\", save_format=\"h5\")"
   ]
  },
  {
   "attachments": {},
   "cell_type": "markdown",
   "metadata": {},
   "source": [
    "##### Load Model and Use it"
   ]
  },
  {
   "cell_type": "code",
   "execution_count": 126,
   "metadata": {},
   "outputs": [],
   "source": [
    "loaded_model = keras.models.load_model(\"Models/Norm-150tanh-100-relu-3\")\n",
    "if loaded_model is None: raise ValueError()\n",
    "\n",
    "i = 101\n",
    "\n",
    "row = np.array([data[i]], dtype=object)\n",
    "row = tf.convert_to_tensor(row, dtype=tf.float32)\n",
    "out = loaded_model.call(row)"
   ]
  },
  {
   "cell_type": "code",
   "execution_count": 127,
   "metadata": {},
   "outputs": [
    {
     "data": {
      "image/png": "[encoded data removed]",
      "text/plain": [
       "<Figure size 500x300 with 1 Axes>"
      ]
     },
     "metadata": {},
     "output_type": "display_data"
    }
   ],
   "source": [
    "fig, ax = plt.subplots(figsize=(5, 3))\n",
    "ax.set_title(\"NN Prediction\")\n",
    "ax.set_ylabel(\"Certainty\")\n",
    "ax.set_ylim(top=1)\n",
    "ax.bar([\"Profit\", \"Stagnation\", \"Loss\"], out[0])\n",
    "plt.setp(ax.get_xticklabels(), fontsize=8, rotation='vertical')\n",
    "plt.show()"
   ]
  },
  {
   "cell_type": "code",
   "execution_count": 128,
   "metadata": {},
   "outputs": [
    {
     "name": "stdout",
     "output_type": "stream",
     "text": [
      "11.686046511627916\n"
     ]
    },
    {
     "data": {
      "image/png": "[encoded data removed]",
      "text/plain": [
       "<Figure size 640x480 with 1 Axes>"
      ]
     },
     "metadata": {},
     "output_type": "display_data"
    },
    {
     "data": {
      "text/plain": [
       "Escherich Frederic A (Director): 5228.0 ADX @ 17.12 on 2020-12-28 (0000002230-20-000021)"
      ]
     },
     "execution_count": 128,
     "metadata": {},
     "output_type": "execute_result"
    }
   ],
   "source": [
    "print(trades[i].returns(90))\n",
    "show_hist_trade(trades[i].form, 100, show_peaks=False)"
   ]
  }
 ],
 "metadata": {
  "kernelspec": {
   "display_name": "Python 3",
   "language": "python",
   "name": "python3"
  },
  "language_info": {
   "codemirror_mode": {
    "name": "ipython",
    "version": 3
   },
   "file_extension": ".py",
   "mimetype": "text/x-python",
   "name": "python",
   "nbconvert_exporter": "python",
   "pygments_lexer": "ipython3",
   "version": "3.10.5"
  },
  "orig_nbformat": 4,
  "vscode": {
   "interpreter": {
    "hash": "aee8b7b246df8f9039afb4144a1f6fd8d2ca17a180786b69acc140d282b71a49"
   }
  }
 },
 "nbformat": 4,
 "nbformat_minor": 2
}
