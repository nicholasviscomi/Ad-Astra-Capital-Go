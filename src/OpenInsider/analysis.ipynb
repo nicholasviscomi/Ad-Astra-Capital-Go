{
 "cells": [
  {
   "cell_type": "code",
   "execution_count": 3,
   "metadata": {},
   "outputs": [],
   "source": [
    "from typing import Optional\n",
    "from dataclasses import dataclass\n",
    "import pickle\n",
    "from datetime import datetime as dt\n",
    "from datetime import date\n",
    "import pandas as pd\n",
    "import matplotlib.pyplot as plt\n",
    "from scipy.signal import find_peaks\n",
    "import numpy as np\n",
    "import os"
   ]
  },
  {
   "attachments": {},
   "cell_type": "markdown",
   "metadata": {},
   "source": [
    "### Necesarry Helper Functions"
   ]
  },
  {
   "cell_type": "code",
   "execution_count": 4,
   "metadata": {},
   "outputs": [],
   "source": [
    "@dataclass\n",
    "class Form:\n",
    "    # Same for both sources\n",
    "    filing_date: str\n",
    "    trade_date: str\n",
    "    ticker: str\n",
    "    price: float\n",
    "    qty_bought: float\n",
    "    qty_owned: float\n",
    "\n",
    "    #Source: openinsider.com\n",
    "    insider_name_link: Optional[str] = None \n",
    "    company_link: Optional[str] = None\n",
    "    buyer_title: Optional[str] = None\n",
    "    \n",
    "    #Source: SEC Bulk Data\n",
    "    accession_number: Optional[str] = None\n",
    "    insider_name: Optional[str] = None \n",
    "    company_name: Optional[str] = None\n",
    "    insider_relationship: Optional[str] = None \n",
    "    insider_title: Optional[str] = None \n",
    "    fd_index: Optional[int] = None\n",
    "\n",
    "    def __eq__(self, other) -> bool:\n",
    "        return self.filing_date == other.filing_date and self.trade_date == other.trade_date and self.ticker == other.ticker and self.price == other.price and self.qty_bought == other.qty_bought and self.qty_owned == self.qty_owned\n",
    "    \n",
    "    def __ne__(self, other) -> bool:\n",
    "        return not self.__eq__(other)\n",
    "    \n",
    "    def delta_own(self):\n",
    "        if self.qty_owned is None or self.qty_bought is None: raise ValueError(\"Class values were None\")\n",
    "\n",
    "        if self.qty_owned - self.qty_bought == 0:\n",
    "            return 100\n",
    "        else:\n",
    "            return float(self.qty_bought / (self.qty_owned - self.qty_bought)) * 100\n",
    "\n",
    "    def days_ago(self) -> int:\n",
    "        if self.filing_date is None or self.trade_date is None:\n",
    "            raise ValueError(\"Class values were None\")\n",
    "        fd = dt.strptime(self.filing_date, \"%Y-%m-%d\")\n",
    "        td = dt.strptime(self.trade_date,  \"%Y-%m-%d\")\n",
    "        return (fd - td).days\n",
    "  \n",
    "def save_data(data, fname):\n",
    "    \"\"\"\n",
    "    base path is Assets folder\n",
    "    \"\"\"\n",
    "    with open(f\"Assets/{fname}.pkl\", \"wb\") as file:\n",
    "        pickle.dump(data, file)\n",
    "\n",
    "def load_data(fname) -> list:\n",
    "    with open(f\"Assets/{fname}.pkl\", \"rb\") as file:\n",
    "        data = pickle.load(file)\n",
    "        return data\n",
    "\n",
    "def tickers_from_data(forms: list[Form]):\n",
    "    tickers = {}\n",
    "    for form in forms:\n",
    "        tickers[form.ticker] = 1\n",
    "\n",
    "    return [key for key in tickers.keys()]\n",
    "\n",
    "@dataclass\n",
    "class Candle:\n",
    "    date: str\n",
    "    o: float\n",
    "    c: float\n",
    "    h: float\n",
    "    l: float\n",
    "    v: int\n",
    "\n",
    "\n",
    "@dataclass(repr=False)\n",
    "class Trade:\n",
    "    form: Form\n",
    "    candles: list[Candle]\n",
    "    onem_profit: Optional[float] = None\n",
    "    twom_profit: Optional[float] = None\n",
    "    threem_profit: Optional[float] = None\n",
    "\n",
    "    def __repr__(self) -> str:\n",
    "        return f\"{self.form.insider_name} ({self.form.insider_relationship}): {self.form.qty_bought} {self.form.ticker} @ {self.form.price} on {self.form.filing_date} ({self.form.accession_number})\"\n",
    "\n",
    "    def catalyst_size(self, shift):\n",
    "        \"\"\"\n",
    "        NOTE: candles[0] needs to be at the filing date, and candles[-1] should be the final day\\n\n",
    "        @param n_days is how many days after the filing date the calculations should consider\\n\n",
    "        @param shift is how many days each peak should be shifted to the right by\n",
    "        \"\"\"\n",
    "        avg_peak_val: float = 0.0\n",
    "\n",
    "        closes = [c.c for c in self.candles]\n",
    "        _, peaks = get_peaks(closes, shift)\n",
    "        \n",
    "        if len(peaks) != 0:\n",
    "            for peak in peaks:\n",
    "                avg_peak_val += self.candles[peak].c\n",
    "                # print(f\"{self.candles[peak].c}, {peak}\")\n",
    "            avg_peak_val /= len(peaks)\n",
    "            # print(f\"AVG PEAK: {avg_peak_val}\")\n",
    "            # print(f\"First Close: {self.candles[0].c}\")\n",
    "            return pct_change(self.candles[0].c, avg_peak_val)\n",
    "        \n",
    "        # if there are no peaks (sad face), return absolute change\n",
    "        return pct_change(closes[0], closes[-1])\n",
    "    \n",
    "    def returns(self, days: int, candles: list[Candle] = []) -> float:\n",
    "        \"\"\"\n",
    "        Percent return over (@param days) number of days from close to close\\n\n",
    "        Negative days shows past returns up to the filing date\\n\n",
    "        Used to check the passivity of a certain transaction\\n\n",
    "        \"\"\"\n",
    "        if days > 0:\n",
    "            if len(self.candles) > days:\n",
    "                return pct_change(self.candles[0].c, self.candles[days - 1].c)\n",
    "            \n",
    "        data = []\n",
    "        if len(candles) == 0:\n",
    "            data = get_ticker_data(self.form.ticker)\n",
    "            assert data is not None\n",
    "        else: \n",
    "            data = candles\n",
    "\n",
    "        fdi = self.form.fd_index\n",
    "        assert fdi is not None\n",
    "    \n",
    "        if days < 0:\n",
    "            data = trim_ticker_data(data, fdi, (-days, 1))\n",
    "        elif days > 0:\n",
    "            data = trim_ticker_data(data, fdi, (0, days))\n",
    "        else: return 0\n",
    "\n",
    "        return pct_change(data[0].c, data[-1].c)\n",
    "    \n",
    "def moving_avg(data: list, length: int):\n",
    "    new_data = []\n",
    "    window = []\n",
    "    for d in data:\n",
    "        if len(window) <= length:\n",
    "            window.append(d)\n",
    "        else:\n",
    "            window = window[1:]\n",
    "            window.append(d)\n",
    "\n",
    "        new_data.append(sum(window)/len(window))\n",
    "    return new_data\n",
    "\n",
    "def pct_change(from_, to_):\n",
    "    return ((to_ - from_) / from_) * 100\n",
    "\n",
    "def get_peaks(price_data: list, shift: int):\n",
    "    \"\"\"\n",
    "    @param price_data: list of prices (typically the closing prices)\\n\n",
    "    @param shift: move each peak to the right n-days because seldom will you exit at the true peak of a stock\\n\n",
    "    \"\"\"\n",
    "    ma = moving_avg(price_data, 7)\n",
    "\n",
    "    dist = 7\n",
    "    height_multiplier = 1.05\n",
    "    peaks, _ = find_peaks(ma, distance=dist, height=ma[0] * height_multiplier, width=5) # one week between peaks and peak must be a 5% increase from day 0\n",
    "\n",
    "\n",
    "    while len(peaks) == 0 and dist >= 1:\n",
    "        peaks, _ = find_peaks(ma, distance=dist, width=5) # one week between peaks and peak must be a 5% increase from day 0\n",
    "        dist -= 1\n",
    "\n",
    "    if pct_change(ma[0], ma[-1]) > 5:\n",
    "        peaks = list(peaks)\n",
    "\n",
    "        s = 0.0\n",
    "        for p in peaks:\n",
    "            s += ma[p]\n",
    "\n",
    "        avg_peak_height = s/len(peaks)\n",
    "        if ma[-2] > avg_peak_height:\n",
    "            peaks.append(len(ma) - 2) # add second index from the end\n",
    "\n",
    "    if len(peaks) == 0: return [], []\n",
    "\n",
    "    for i in range(len(peaks)):\n",
    "        if i < len(peaks) - 1:\n",
    "            peaks[i] += shift \n",
    "\n",
    "    return ma, peaks\n",
    "\n",
    "def show_trade(trade: Trade, show_peaks: bool):\n",
    "    prices = pd.DataFrame({\n",
    "        \"high\"  : [candle.h  for candle in trade.candles],\n",
    "        \"low\"   : [candle.l  for candle in trade.candles],\n",
    "        \"open\"  : [candle.o  for candle in trade.candles],\n",
    "        \"close\" : [candle.c  for candle in trade.candles]\n",
    "    })\n",
    "    green  = prices[prices.close >= prices.open] # green candles\n",
    "    red    = prices[prices.close < prices.open] # red candles\n",
    "    w1, w2 = 0.4, 0.02 # width of thick part and width of extrema\n",
    "\n",
    "    _, ax = plt.subplots()\n",
    "    # graph green candles (x, height, width, bottom, color)\n",
    "    ax.bar(green.index, green.close - green.open, w1, green.open, color='green') # thick middle part\n",
    "    ax.bar(green.index, green.high  - green.close, w2, green.close, color='black') # high price\n",
    "    ax.bar(green.index, green.low  - green.open, w2, green.open, color='black') # low price\n",
    "    \n",
    "    ax.bar(red.index, red.close - red.open, w1, red.open, color='red') # thick middle part\n",
    "    ax.bar(red.index, red.high  - red.open, w2, red.open, color='black') # high price\n",
    "    ax.bar(red.index, red.low   - red.close, w2, red.close, color='black') # low price\n",
    "\n",
    "    if show_peaks:\n",
    "        ma, peaks = get_peaks(list(prices.close.array), 3)\n",
    "        ax.plot(ma)\n",
    "        \n",
    "        for peak in peaks:\n",
    "            ax.plot(peak, list(prices.close.array)[peak], \"bo\")\n",
    "\n",
    "\n",
    "    title = f\"{trade.form.ticker} @ {trade.candles[0].date} (FD: {trade.form.filing_date}, TD: {trade.form.trade_date})\"\n",
    "\n",
    "    ax.set_title(title)\n",
    "    plt.show()\n",
    "\n",
    "def get_ticker_data(ticker: str):\n",
    "    \"\"\"\n",
    "    open and return the data associated with a certain ticker\\n\n",
    "    returns None is no data are found\n",
    "    \"\"\"\n",
    "    contents = os.listdir(f\"Assets/Historical_Stock_Data\")\n",
    "    if f\"{ticker}.pkl\" not in contents: return None\n",
    "    else: return load_data(f\"Historical_Stock_Data/{ticker}\")\n",
    "\n",
    "def trim_ticker_data(data: list[Candle], fd_index: int, window: tuple[int, int]):\n",
    "    \"\"\"\n",
    "    @param window is a tuple of how many candles should be included before and after the filing date\\n\n",
    "    \\t --> i.e. (10, 100) means to show from 10 days before to 100 days after\n",
    "    \"\"\"\n",
    "    start = fd_index - window[0] if fd_index - window[0] >= 0 else 0\n",
    "    end = fd_index + window[1] if fd_index + window[1] < len(data) else len(data) - 1\n",
    "    data = data[start : end]\n",
    "    return data\n",
    "\n",
    "def trade_from_histform(form: Form, n_days):\n",
    "    \"\"\"\n",
    "    returns trade object with candles from fd up to (fd + n_days)\n",
    "    \"\"\"\n",
    "    data = get_ticker_data(form.ticker)\n",
    "    if data is None: return\n",
    "\n",
    "    i = form.fd_index\n",
    "    if i is None: \n",
    "        print(\"❌FDI NOT FOUND\")\n",
    "        return\n",
    "\n",
    "    data = data[i:i + n_days]\n",
    "\n",
    "    trade = Trade(\n",
    "        form,\n",
    "        data\n",
    "    )\n",
    "\n",
    "    return trade\n",
    "\n",
    "def show_hist_trade(form: Form, n_days: int, show_peaks: bool):\n",
    "    if form.ticker is None: return\n",
    "    if form.filing_date is None: return\n",
    "\n",
    "    data = get_ticker_data(form.ticker)\n",
    "    if data is None: return\n",
    "\n",
    "    i = form.fd_index\n",
    "    if i is None: \n",
    "        print(\"❌FDI NOT FOUND\")\n",
    "        return\n",
    "\n",
    "    data = data[i : i + n_days]\n",
    "\n",
    "    trade = Trade(\n",
    "        form,\n",
    "        data\n",
    "    )\n",
    "\n",
    "    show_trade(trade, show_peaks)\n",
    "\n",
    "    return trade"
   ]
  },
  {
   "attachments": {},
   "cell_type": "markdown",
   "metadata": {},
   "source": [
    "### Load in Data"
   ]
  },
  {
   "cell_type": "code",
   "execution_count": 4,
   "metadata": {},
   "outputs": [],
   "source": [
    "forms: list[Form] = load_data(\"HistForms\")"
   ]
  },
  {
   "cell_type": "code",
   "execution_count": 6,
   "metadata": {},
   "outputs": [
    {
     "name": "stdout",
     "output_type": "stream",
     "text": [
      "100.00%\r"
     ]
    }
   ],
   "source": [
    "l = len(forms)\n",
    "trades: list[Trade] = []\n",
    "for i, form in enumerate(forms):\n",
    "    print(f\"{i/(l - 1)*100:.2f}%\", end='\\r')\n",
    "    t = trade_from_histform(form, 100)\n",
    "    if t is not None: # * this line ensures each trade has data!\n",
    "        trades.append(t)\n",
    "\n",
    "trades = list(filter(lambda x: len(x.candles) > 0 and x.candles is not None, trades)) # filter such that..."
   ]
  },
  {
   "cell_type": "code",
   "execution_count": 9,
   "metadata": {},
   "outputs": [],
   "source": [
    "trades: list[Trade] = load_data(\"Trades\")"
   ]
  },
  {
   "attachments": {},
   "cell_type": "markdown",
   "metadata": {},
   "source": [
    "### Track the Insider and Company in Question"
   ]
  },
  {
   "cell_type": "code",
   "execution_count": 5,
   "metadata": {},
   "outputs": [],
   "source": [
    "def get_insider_and_company_dict(trades: list[Trade]) -> tuple[dict[str, list[Trade]], dict[str, list[Trade]]]:\n",
    "    # get dictionary of \"insider name\" : [forms...]\n",
    "    insider_dict: dict[str, list[Trade]] = {}\n",
    "    # get dictionary of \"ticker\" : [forms...]\n",
    "    company_dict: dict[str, list[Trade]] = {}\n",
    "\n",
    "    for trade in trades:\n",
    "        iname = trade.form.insider_name\n",
    "        if iname is None: continue\n",
    "        if iname not in insider_dict:\n",
    "            insider_dict[iname] = [trade]\n",
    "        else:\n",
    "            insider_dict[iname].append(trade)\n",
    "\n",
    "        cname = trade.form.ticker\n",
    "        if cname is None: continue\n",
    "        if cname not in company_dict:\n",
    "            company_dict[cname] = [trade]\n",
    "        else:\n",
    "            company_dict[cname].append(trade)\n",
    "        \n",
    "    return insider_dict, company_dict"
   ]
  },
  {
   "cell_type": "code",
   "execution_count": 6,
   "metadata": {},
   "outputs": [],
   "source": [
    "def get_cluster_score(curr: Trade, company_trades: list[Trade]):\n",
    "    cd = dt.strptime(curr.form.trade_date, \"%Y-%m-%d\")\n",
    "\n",
    "    cluster_score = 0\n",
    "\n",
    "    # filter such that every trade in the comapnies history is from before the current trades filing date\n",
    "    for t in list(filter(lambda x: dt.strptime(x.form.trade_date, \"%Y-%m-%d\") <= cd and x.form.accession_number != curr.form.accession_number, company_trades)):\n",
    "        td = dt.strptime(t.form.trade_date, \"%Y-%m-%d\")\n",
    "        if (cd - td).days < 30:\n",
    "            cluster_score += 1\n",
    "    \n",
    "    return cluster_score"
   ]
  },
  {
   "attachments": {},
   "cell_type": "markdown",
   "metadata": {},
   "source": [
    "### Map Insider Job Title to Numbers"
   ]
  },
  {
   "attachments": {},
   "cell_type": "markdown",
   "metadata": {},
   "source": [
    "- Other = 1\n",
    "- 10% owners = 2\n",
    "- Director = 3\n",
    "- Officer = 4\n",
    "- Vice President (EVP or SVP) = 5\n",
    "- President = 6"
   ]
  },
  {
   "cell_type": "code",
   "execution_count": 7,
   "metadata": {},
   "outputs": [],
   "source": [
    "def map_insider_title(relationship: str, title: str = \"\") -> int:\n",
    "    relationship = relationship.lower()\n",
    "\n",
    "    if \"other\" in relationship:\n",
    "        return 1\n",
    "\n",
    "    if \"tenpercentowner\" in relationship:\n",
    "        return 2\n",
    "    \n",
    "    if \"director\" in relationship:\n",
    "        return 3\n",
    "    \n",
    "    if \"officer\" in relationship:\n",
    "        if title == \"\": return 4\n",
    "        t = title.lower()\n",
    "\n",
    "        if \"vice president\" in t or \"svp\" in t or \"evp\" in t:\n",
    "            # must be before the check for president\n",
    "            return 5\n",
    "        \n",
    "        if \"president\" in t:\n",
    "            return 6\n",
    "        \n",
    "        return 4 # shouldn't be reached\n",
    "\n",
    "    #* tested on all forms and never reached\n",
    "    return 0"
   ]
  },
  {
   "attachments": {},
   "cell_type": "markdown",
   "metadata": {},
   "source": [
    "## Conduct Analysis"
   ]
  },
  {
   "cell_type": "code",
   "execution_count": 8,
   "metadata": {},
   "outputs": [],
   "source": [
    "import pandas as pd"
   ]
  },
  {
   "attachments": {},
   "cell_type": "markdown",
   "metadata": {},
   "source": [
    "#### Import data into a pandas dataframe\n",
    "First it needs to be created and then saved to csv, where it can then be read in from said file (much quicker)"
   ]
  },
  {
   "cell_type": "code",
   "execution_count": 10,
   "metadata": {},
   "outputs": [],
   "source": [
    "i_dict, c_dict = get_insider_and_company_dict(trades)"
   ]
  },
  {
   "cell_type": "code",
   "execution_count": 83,
   "metadata": {},
   "outputs": [
    {
     "name": "stdout",
     "output_type": "stream",
     "text": [
      "100.00%\r"
     ]
    }
   ],
   "source": [
    "data = {\n",
    "    \"ticker\": [],\n",
    "    \"insider_name\": [],\n",
    "    \"qty_bought\": [],\n",
    "    \"qty_owned\": [],\n",
    "    \"share_price\": [],\n",
    "    \"owner_title\": [],\n",
    "    \"days_ago\": [],\n",
    "    \"delta_own\": [],\n",
    "    \"filing_date\": [],\n",
    "    \"trade_date\": [],\n",
    "    \"cluster_score\": [],\n",
    "    \"returns(90)\": [],\n",
    "    \"returns(-30)\": [],\n",
    "}\n",
    "\n",
    "l = len(trades)\n",
    "for i, t in enumerate(trades):\n",
    "    print(f\"{i / (l-1) * 100 :.2f}%\", end='\\r')\n",
    "    try:\n",
    "        data[\"returns(-30)\"].append(t.returns(-30))\n",
    "    except:\n",
    "        continue\n",
    "\n",
    "    f = t.form\n",
    "    data[\"ticker\"].append(f.ticker)\n",
    "    data[\"insider_name\"].append(f.insider_name)\n",
    "    data[\"qty_bought\"].append(f.qty_bought)\n",
    "    data[\"qty_owned\"].append(f.qty_owned)\n",
    "    data[\"share_price\"].append(f.price)\n",
    "    data[\"owner_title\"].append(f.insider_relationship)\n",
    "    data[\"days_ago\"].append(f.days_ago())\n",
    "    data[\"delta_own\"].append(f.delta_own())\n",
    "    data[\"filing_date\"].append(f.filing_date)\n",
    "    data[\"trade_date\"].append(f.trade_date)\n",
    "    data[\"cluster_score\"].append(get_cluster_score(t, c_dict[f.ticker]))\n",
    "    data[\"returns(90)\"].append(t.returns(90))\n",
    "\n",
    "df = pd.DataFrame.from_dict(data)"
   ]
  },
  {
   "cell_type": "code",
   "execution_count": 11,
   "metadata": {},
   "outputs": [],
   "source": [
    "df = pd.read_csv(\"Assets/DataFrame.csv\")\n",
    "df.dropna(inplace=True)\n",
    "df.drop(df[df[\"delta_own\"] < 0].index, inplace=True)\n",
    "df.drop(columns=[\"Unnamed: 0\"], inplace=True)"
   ]
  },
  {
   "attachments": {},
   "cell_type": "markdown",
   "metadata": {},
   "source": [
    "#### Visualize Data to Try and Observe Trends"
   ]
  },
  {
   "cell_type": "code",
   "execution_count": 12,
   "metadata": {},
   "outputs": [],
   "source": [
    "def mean_w_bounds(column: str, bounds: list[float]) -> list[float]:\n",
    "    assert column in df.columns\n",
    "\n",
    "    means = []\n",
    "    prev = -1\n",
    "    for i, bound in enumerate(bounds):\n",
    "        if i == 0:\n",
    "            prev = bound\n",
    "            continue\n",
    "\n",
    "        lower = prev\n",
    "        upper = bound\n",
    "\n",
    "        means.append(df[(df[column] > lower) & (df[column] < upper)].loc[:, \"returns(90)\"].mean())\n",
    "\n",
    "        if i == len(bounds) - 1:\n",
    "            # compute the returns for (upper bound, ∞)\n",
    "            lower = bound\n",
    "            means.append(df[(df[column] > lower)].loc[:, \"returns(90)\"].mean())\n",
    "            \n",
    "        prev = bound\n",
    "\n",
    "    return means"
   ]
  },
  {
   "cell_type": "code",
   "execution_count": 13,
   "metadata": {},
   "outputs": [],
   "source": [
    "def plot_column_by_bounds(column: str, bounds: list[float]):\n",
    "    _, ax = plt.subplots(figsize=(10, 3))\n",
    "    x = [f\"{bounds[i]:,.2f} to {x:,.2f}\" for i, x in enumerate(bounds[1:])]\n",
    "    x.append(f\">{bounds[-1]:,.2f}\")\n",
    "\n",
    "    ax.bar(x=x, height=mean_w_bounds(column, bounds))\n",
    "    ax.set_title(f\"avg. returns(90) vs. {column}\")\n",
    "    ax.set_xlabel(f\"Upper Bound of # of {column}\")\n",
    "    ax.set_ylabel(\"90 day returns (%)\")\n",
    "    plt.show()\n"
   ]
  },
  {
   "attachments": {},
   "cell_type": "markdown",
   "metadata": {},
   "source": [
    "#### Analyzing Quantity of Shares Bought\n",
    "Strong positive correlation"
   ]
  },
  {
   "cell_type": "code",
   "execution_count": 39,
   "metadata": {},
   "outputs": [
    {
     "data": {
      "text/plain": [
       "count    3.764300e+04\n",
       "mean     1.245640e+05\n",
       "std      3.129793e+06\n",
       "min      0.000000e+00\n",
       "25%      3.150000e+02\n",
       "50%      2.040000e+03\n",
       "75%      1.000000e+04\n",
       "90%      5.364700e+04\n",
       "max      5.135352e+08\n",
       "Name: qty_bought, dtype: float64"
      ]
     },
     "execution_count": 39,
     "metadata": {},
     "output_type": "execute_result"
    }
   ],
   "source": [
    "df[\"qty_bought\"].describe(percentiles=[0.25, 0.50, 0.75, 0.90])"
   ]
  },
  {
   "cell_type": "code",
   "execution_count": 14,
   "metadata": {},
   "outputs": [
    {
     "data": {
      "image/png": "[encoded data removed]",
      "text/plain": [
       "<Figure size 1000x300 with 1 Axes>"
      ]
     },
     "metadata": {},
     "output_type": "display_data"
    }
   ],
   "source": [
    "upper_bounds: list[float] = [0, 315, 2040, 10_000]\n",
    "plot_column_by_bounds(\"qty_bought\", upper_bounds)"
   ]
  },
  {
   "attachments": {},
   "cell_type": "markdown",
   "metadata": {},
   "source": [
    "#### Analyzing Percent Change in Ownership\n",
    "Moderately strong linear relationship"
   ]
  },
  {
   "cell_type": "code",
   "execution_count": 17,
   "metadata": {},
   "outputs": [
    {
     "data": {
      "text/plain": [
       "count    3.757400e+04\n",
       "mean     1.763230e+02\n",
       "std      1.090989e+04\n",
       "min      0.000000e+00\n",
       "25%      4.464599e-01\n",
       "50%      3.489516e+00\n",
       "75%      2.500000e+01\n",
       "max      1.676000e+06\n",
       "Name: delta_own, dtype: float64"
      ]
     },
     "execution_count": 17,
     "metadata": {},
     "output_type": "execute_result"
    }
   ],
   "source": [
    "df[\"delta_own\"].describe()"
   ]
  },
  {
   "cell_type": "code",
   "execution_count": 18,
   "metadata": {},
   "outputs": [
    {
     "data": {
      "image/png": "[encoded data removed]",
      "text/plain": [
       "<Figure size 1000x300 with 1 Axes>"
      ]
     },
     "metadata": {},
     "output_type": "display_data"
    }
   ],
   "source": [
    "upper_bounds: list[float] = [0, 0.45, 3.5, 25]\n",
    "plot_column_by_bounds(\"delta_own\", upper_bounds)"
   ]
  },
  {
   "attachments": {},
   "cell_type": "markdown",
   "metadata": {},
   "source": [
    "#### Analyzing Share Price\n",
    "Strong negative relationship (approx 1/x)"
   ]
  },
  {
   "cell_type": "code",
   "execution_count": 15,
   "metadata": {},
   "outputs": [
    {
     "data": {
      "text/plain": [
       "count    3.764300e+04\n",
       "mean     1.269884e+03\n",
       "std      7.464645e+04\n",
       "min      0.000000e+00\n",
       "25%      5.640000e+00\n",
       "50%      1.475000e+01\n",
       "75%      2.990000e+01\n",
       "90%      6.374000e+01\n",
       "max      6.000000e+06\n",
       "Name: share_price, dtype: float64"
      ]
     },
     "execution_count": 15,
     "metadata": {},
     "output_type": "execute_result"
    }
   ],
   "source": [
    "df[\"share_price\"].describe(percentiles=[0.25, 0.50, 0.75, 0.90])"
   ]
  },
  {
   "cell_type": "code",
   "execution_count": 31,
   "metadata": {},
   "outputs": [
    {
     "data": {
      "image/png": "[encoded data removed]",
      "text/plain": [
       "<Figure size 1000x300 with 1 Axes>"
      ]
     },
     "metadata": {},
     "output_type": "display_data"
    }
   ],
   "source": [
    "upper_bounds = [0, 5.64, 14.7, 29.8, 63.7] # 0, 25, 50, 75, 90 percentiles\n",
    "plot_column_by_bounds(\"share_price\", upper_bounds)"
   ]
  },
  {
   "attachments": {},
   "cell_type": "markdown",
   "metadata": {},
   "source": [
    "#### Analyzing Cluster Score\n",
    "No trend established"
   ]
  },
  {
   "cell_type": "code",
   "execution_count": 26,
   "metadata": {},
   "outputs": [
    {
     "data": {
      "text/plain": [
       "count    37643.000000\n",
       "mean        23.909014\n",
       "std        101.526356\n",
       "min          0.000000\n",
       "25%          0.000000\n",
       "50%          2.000000\n",
       "75%          6.000000\n",
       "90%         15.000000\n",
       "max        803.000000\n",
       "Name: cluster_score, dtype: float64"
      ]
     },
     "execution_count": 26,
     "metadata": {},
     "output_type": "execute_result"
    }
   ],
   "source": [
    "df[\"cluster_score\"].describe(percentiles=[0.25, 0.50, 0.75, 0.90])"
   ]
  },
  {
   "cell_type": "code",
   "execution_count": 32,
   "metadata": {},
   "outputs": [
    {
     "data": {
      "image/png": "[encoded data removed]",
      "text/plain": [
       "<Figure size 1000x300 with 1 Axes>"
      ]
     },
     "metadata": {},
     "output_type": "display_data"
    }
   ],
   "source": [
    "upper_bounds: list[float] = [0, 2, 6, 15]\n",
    "plot_column_by_bounds(\"cluster_score\", upper_bounds)"
   ]
  },
  {
   "attachments": {},
   "cell_type": "markdown",
   "metadata": {},
   "source": [
    "#### Analyzing Stock Returns Before Transaction Date"
   ]
  },
  {
   "cell_type": "code",
   "execution_count": 56,
   "metadata": {},
   "outputs": [
    {
     "data": {
      "text/plain": [
       "count    3.757400e+04\n",
       "mean     7.025127e+02\n",
       "std      6.864768e+04\n",
       "min     -9.428571e+01\n",
       "25%     -1.411992e+01\n",
       "50%     -2.085238e+00\n",
       "75%      6.618837e+00\n",
       "90%      2.012465e+01\n",
       "max      7.209900e+06\n",
       "Name: returns(-30), dtype: float64"
      ]
     },
     "execution_count": 56,
     "metadata": {},
     "output_type": "execute_result"
    }
   ],
   "source": [
    "df[\"returns(-30)\"].describe(percentiles=[0.25, 0.50, 0.75, 0.90])"
   ]
  },
  {
   "cell_type": "code",
   "execution_count": 13,
   "metadata": {},
   "outputs": [
    {
     "data": {
      "image/png": "[encoded data removed]",
      "text/plain": [
       "<Figure size 1000x300 with 1 Axes>"
      ]
     },
     "metadata": {},
     "output_type": "display_data"
    }
   ],
   "source": [
    "upper_bounds = [-95, -14.11, -2.08, 6.62, 20.17]\n",
    "plot_column_by_bounds(\"returns(-30)\", upper_bounds)"
   ]
  },
  {
   "attachments": {},
   "cell_type": "markdown",
   "metadata": {},
   "source": [
    "#### Analyzing Owner Relationship\n",
    "Any owner besides \"other\" (mapped to 1) is fine"
   ]
  },
  {
   "cell_type": "code",
   "execution_count": 17,
   "metadata": {},
   "outputs": [],
   "source": [
    "df[\"title_num\"] = df[\"owner_title\"].apply(lambda x: map_insider_title(str(x)))"
   ]
  },
  {
   "cell_type": "code",
   "execution_count": 36,
   "metadata": {},
   "outputs": [
    {
     "data": {
      "image/png": "[encoded data removed]",
      "text/plain": [
       "<Figure size 1000x300 with 1 Axes>"
      ]
     },
     "metadata": {},
     "output_type": "display_data"
    }
   ],
   "source": [
    "data = [\n",
    "    df[df[\"title_num\"] == 1].loc[:, \"returns(90)\"].mean(), df[df[\"title_num\"] == 2].loc[:, \"returns(90)\"].mean(), \n",
    "    df[df[\"title_num\"] == 3].loc[:, \"returns(90)\"].mean(), df[df[\"title_num\"] == 4].loc[:, \"returns(90)\"].mean()\n",
    "]\n",
    "column = \"Owner Relationship\"\n",
    "_, ax = plt.subplots(figsize=(10, 3))\n",
    "\n",
    "ax.bar(x=[\"1\", \"2\", \"3\", \"4\"], height=data)\n",
    "ax.set_title(f\"avg. returns(90) vs. {column}\")\n",
    "ax.set_xlabel(f\"Upper Bound of # of {column}\")\n",
    "ax.set_ylabel(\"90 day returns (%)\")\n",
    "plt.show()"
   ]
  },
  {
   "attachments": {},
   "cell_type": "markdown",
   "metadata": {},
   "source": [
    "#### Analyze Insider Track Record"
   ]
  },
  {
   "attachments": {},
   "cell_type": "markdown",
   "metadata": {},
   "source": [
    "Filtering out the rows where the transaction price is not within the range of the past 5 years of stock data. Removed 2129 rows out of 37000 to ensure that profit calculations, especially the insider track record, are correct (and not above $4 trillion profit like it used to say)"
   ]
  },
  {
   "cell_type": "code",
   "execution_count": 17,
   "metadata": {},
   "outputs": [],
   "source": [
    "def candle_max(data: list[Candle]):\n",
    "    m = 0\n",
    "    for d in data:\n",
    "        m = d.h if d.h > m else m\n",
    "\n",
    "    return m\n",
    "\n",
    "def candle_min(data: list[Candle]):\n",
    "    m = 1_000_000\n",
    "    for d in data:\n",
    "        m = d.l if d.l < m else m\n",
    "\n",
    "    return m"
   ]
  },
  {
   "cell_type": "code",
   "execution_count": 18,
   "metadata": {},
   "outputs": [
    {
     "name": "stdout",
     "output_type": "stream",
     "text": [
      " 99.97%\r"
     ]
    }
   ],
   "source": [
    "\n",
    "#* Create a dictionary of <ticker> : (min, max price)\n",
    "#* Will be used to remove invalid insider transactions\n",
    "price_ranges: dict[str, tuple[float, float]] = {}\n",
    "l = len(os.listdir(\"Assets/Historical_Stock_Data\"))\n",
    "for i,fname in enumerate(os.listdir(\"Assets/Historical_Stock_Data\")):\n",
    "    print(f\"{i/l*100: .2f}%\", end=\"\\r\")\n",
    "    ticker = fname.split(\".\")[0]\n",
    "    data = get_ticker_data(ticker)\n",
    "    if data is None: continue\n",
    "\n",
    "    price_ranges[ticker] = (candle_min(data), candle_max(data))\n",
    "\n"
   ]
  },
  {
   "cell_type": "code",
   "execution_count": 19,
   "metadata": {},
   "outputs": [],
   "source": [
    "price_outliers = [] # INDEX of each price outlier, not the row itself\n",
    "for i, row in df.iterrows():\n",
    "    if row[\"share_price\"] > price_ranges[row[\"ticker\"]][1] or row[\"share_price\"] < price_ranges[row[\"ticker\"]][0]:\n",
    "        price_outliers.append(i)"
   ]
  },
  {
   "attachments": {},
   "cell_type": "markdown",
   "metadata": {},
   "source": [
    "Here is where the indices of the price outliers are actually removed"
   ]
  },
  {
   "cell_type": "code",
   "execution_count": 20,
   "metadata": {},
   "outputs": [],
   "source": [
    "df.drop(price_outliers, inplace=True)"
   ]
  },
  {
   "cell_type": "code",
   "execution_count": 21,
   "metadata": {},
   "outputs": [],
   "source": [
    "def get_insider_record(name, fd):\n",
    "    \"\"\"\n",
    "    Returns the average $ profit of a an insiders past trades\n",
    "    \"\"\"\n",
    "    fd = dt.strptime(fd,  \"%Y-%m-%d\")\n",
    "    # only include an insider's trades from the PAST\n",
    "    i_trades = list(filter(lambda x: dt.strptime(x.form.filing_date, \"%Y-%m-%d\") < fd, i_dict[name]))\n",
    "    \n",
    "    i_profits = []\n",
    "    for i_trade in i_trades:\n",
    "        # must calculate the returns up to the filing date of the current trade to simulate placing a trade on that specific day\n",
    "        if fd is None or i_trade.form.filing_date is None: continue\n",
    "\n",
    "        #! key block for removing the stupid trades with incoherent price_per_share values\n",
    "        if i_trade.form.price > price_ranges[i_trade.form.ticker][1] or i_trade.form.price < price_ranges[i_trade.form.ticker][0]:\n",
    "            continue\n",
    "        #!--------------------------------------------------------------------------------\n",
    "        \n",
    "        it_fd = dt.strptime(i_trade.form.filing_date, \"%Y-%m-%d\")\n",
    "        delta = (fd - it_fd).days # correct\n",
    "\n",
    "        if delta < 90:\n",
    "            # because the difference between each candle is not always 1 day (weekends), returns(delta) is too far\n",
    "            # into the future. Must find the index of teh desired filing date\n",
    "            delta_index = -1\n",
    "            for i, c in enumerate(i_trade.candles):\n",
    "                if c.date == fd.strftime(\"%m/%d/%Y\"):\n",
    "                    delta_index = i\n",
    "                    \n",
    "            if delta_index == -1: continue\n",
    "            new_price_per_share = i_trade.form.price + (i_trade.form.price * i_trade.returns(delta_index)/100)\n",
    "        else:\n",
    "            new_price_per_share = i_trade.form.price + (i_trade.form.price * i_trade.returns(90)/100)\n",
    "\n",
    "        i_profits.append(\n",
    "            (new_price_per_share - i_trade.form.price) * i_trade.form.qty_bought\n",
    "        )\n",
    "\n",
    "    if len(i_profits) > 0:\n",
    "        return sum(i_profits)/len(i_profits)\n",
    "    else:\n",
    "        return 0"
   ]
  },
  {
   "cell_type": "code",
   "execution_count": 23,
   "metadata": {},
   "outputs": [],
   "source": [
    "df[\"insider_record\"] = df.apply(lambda row: get_insider_record(row[\"insider_name\"], row[\"filing_date\"]), axis=1)"
   ]
  },
  {
   "cell_type": "code",
   "execution_count": 24,
   "metadata": {},
   "outputs": [
    {
     "data": {
      "text/plain": [
       "count    3.544500e+04\n",
       "mean     1.150616e+04\n",
       "std      1.269954e+06\n",
       "min     -1.321910e+08\n",
       "25%     -6.053106e+01\n",
       "50%      0.000000e+00\n",
       "75%      2.480730e+02\n",
       "90%      1.188816e+04\n",
       "max      6.814056e+07\n",
       "Name: insider_record, dtype: float64"
      ]
     },
     "execution_count": 24,
     "metadata": {},
     "output_type": "execute_result"
    }
   ],
   "source": [
    "# df[\"norm_insider_record\"] = (df[\"insider_record\"] - df[\"insider_record\"].min()) / (df[\"insider_record\"].max() - df[\"insider_record\"].min()) \n",
    "df[\"insider_record\"].describe(percentiles=[0.25, 0.50, 0.75, 0.90])"
   ]
  },
  {
   "cell_type": "code",
   "execution_count": 25,
   "metadata": {},
   "outputs": [
    {
     "data": {
      "image/png": "[encoded data removed]",
      "text/plain": [
       "<Figure size 1000x300 with 1 Axes>"
      ]
     },
     "metadata": {},
     "output_type": "display_data"
    }
   ],
   "source": [
    "upper_bounds = [(-1.3219 * (10**8)), -60.53, 0, 248.07, 11_888]\n",
    "plot_column_by_bounds(\"insider_record\", upper_bounds)"
   ]
  },
  {
   "attachments": {},
   "cell_type": "markdown",
   "metadata": {},
   "source": [
    "#### Using the Best Parameters"
   ]
  },
  {
   "cell_type": "code",
   "execution_count": 18,
   "metadata": {},
   "outputs": [],
   "source": [
    "rows = df[\n",
    "    (df[\"share_price\"] < 15) \n",
    "    & (df[\"qty_bought\"] > 1_000_000) \n",
    "    & ((df[\"delta_own\"] > 50) & (df[\"delta_own\"] < 100))\n",
    "    & (df[\"title_num\"] != 1)\n",
    "    & ((df[\"returns(-30)\"] < -14) | (df[\"returns(-30)\"] > 6.5))\n",
    "    # & (df[\"insider_record\"] > 248)\n",
    "]\n",
    "\n",
    "mean = rows.loc[:, \"returns(90)\"].mean()\n",
    "\n",
    "losers = rows[rows[\"returns(90)\"] < 0]\n",
    "winners = rows[rows[\"returns(90)\"] > 0]"
   ]
  },
  {
   "cell_type": "code",
   "execution_count": 19,
   "metadata": {},
   "outputs": [
    {
     "name": "stdout",
     "output_type": "stream",
     "text": [
      "40 transactions ==> 89.48% returns over 90 days\n",
      "22 winners @ 188.84% avg\n",
      "18 losers @ -31.96% avg\n"
     ]
    }
   ],
   "source": [
    "print(f\"{len(rows)} transactions ==> {mean:.2f}% returns over 90 days\")\n",
    "\n",
    "wm = winners.loc[:, \"returns(90)\"].mean()\n",
    "lm = losers.loc[:, \"returns(90)\"].mean()\n",
    "print(f\"{len(winners)} winners @ {wm:.2f}% avg\")\n",
    "print(f\"{len(losers)} losers @ {lm:.2f}% avg\")"
   ]
  },
  {
   "attachments": {},
   "cell_type": "markdown",
   "metadata": {},
   "source": [
    "## Neural Network Development—Categorical Inputs"
   ]
  },
  {
   "attachments": {},
   "cell_type": "markdown",
   "metadata": {},
   "source": [
    "#### 1. Prepare Structured Data and Labels\n",
    "\n",
    "Each of the following variables...\n",
    "- qty shares bought\n",
    "- price per share\n",
    "- %∆ ownership\n",
    "- insider title (4 options, one-hot encoded)\n",
    "- returns(-30) (possibly referred to as passivity because of the book Investment Intelligence from Insider Trading)\n",
    "\n",
    "One-hot encoded to represent whether each variable was...\n",
    "- Q3 - Max\n",
    "- Median - Q3\n",
    "- Q1 - Median\n",
    "- Q1 - Min\n"
   ]
  },
  {
   "cell_type": "code",
   "execution_count": 49,
   "metadata": {},
   "outputs": [
    {
     "data": {
      "text/plain": [
       "count    37574.000000\n",
       "mean         9.783809\n",
       "std         96.889205\n",
       "min       -100.000000\n",
       "25%        -14.599042\n",
       "50%          1.272912\n",
       "75%         18.878758\n",
       "max       6990.000000\n",
       "Name: returns(90), dtype: float64"
      ]
     },
     "execution_count": 49,
     "metadata": {},
     "output_type": "execute_result"
    }
   ],
   "source": [
    "df[\"returns(90)\"].describe()"
   ]
  },
  {
   "attachments": {},
   "cell_type": "markdown",
   "metadata": {},
   "source": [
    "Labels will be...\n",
    "- Q3 - Max (18.8 <--> 6990)\n",
    "- Median - Q3 (1.27 <--> 18.8)\n",
    "- Q1 - Median (-14.6 <--> 1.27)\n",
    "- Q1 - Min (-100 <--> -14)"
   ]
  },
  {
   "cell_type": "code",
   "execution_count": 50,
   "metadata": {},
   "outputs": [],
   "source": [
    "# 0%, 25%, 50%, 75%\n",
    "# first value of the tuple is inclusive, the second is not\n",
    "# if the length of the tuple is one, the range is just ≥ to the value\n",
    "nshares_bounds = [(0, 315), (315, 2040), (2040, 10_000), (10_000)]\n",
    "share_price_bounds = [(0, 5.65), (5.65, 14.7), (14.7, 29.8), (29.8)]\n",
    "deltaown_bounds = [(0, 0.45), (0.45, 3.5), (3.5,25), (25)]\n",
    "passivity_bounds = [(-95, -14.11), (-14.11, -2.08), (-2.08, 6.62), (6.62)]\n",
    "\n",
    "# array of len(df), where each element is an array of length 4 for each of the above variables\n",
    "# Each element within the length 4 array is another length 4 array with the transaction's value\n",
    "# one-hot encoded \n",
    "structured_data = []\n",
    "labels = []\n",
    "for i, row in df.iterrows():\n",
    "    structured_data_row = []\n",
    "    columns = [\n",
    "        (\"qty_bought\", nshares_bounds), (\"share_price\", share_price_bounds),\n",
    "        (\"delta_own\", deltaown_bounds), (\"returns(-30)\", passivity_bounds)\n",
    "    ]\n",
    "    for column, bounds in columns:\n",
    "        for j, b in enumerate(bounds):\n",
    "            if type(b) is int or type(b) is float:\n",
    "                if row[column] > b:\n",
    "                    one_hot = np.zeros(4)\n",
    "                    one_hot[j] = 1\n",
    "                    structured_data_row.append(one_hot)\n",
    "\n",
    "            elif len(b) == 2:\n",
    "                if row[column] >= b[0] and row[column] < b[1]:\n",
    "                    one_hot = np.zeros(4)\n",
    "                    one_hot[j] = 1\n",
    "                    structured_data_row.append(one_hot)\n",
    "    \n",
    "    structured_data.append(structured_data_row)\n",
    "\n",
    "    profit = row[\"returns(90)\"]\n",
    "    zeros = np.zeros(4)\n",
    "    if profit > 18.8:\n",
    "        zeros[0] = 1\n",
    "    elif profit > 1.27 and profit <= 18.8:\n",
    "        zeros[1] = 1\n",
    "    elif profit > -14.6 and profit <= 1.27:\n",
    "        zeros[2]\n",
    "    elif profit >= -14.6:\n",
    "        zeros[3] = 1\n",
    "\n",
    "    labels.append(zeros)"
   ]
  },
  {
   "attachments": {},
   "cell_type": "markdown",
   "metadata": {},
   "source": [
    "Structured Data has len(df), with each element being a list of length 4 for each variable being encoded. Then each element within that list is of length 4 where the values are actually one-hot encoded"
   ]
  },
  {
   "cell_type": "code",
   "execution_count": 39,
   "metadata": {},
   "outputs": [
    {
     "name": "stdout",
     "output_type": "stream",
     "text": [
      "37574\n",
      "4\n",
      "4\n"
     ]
    }
   ],
   "source": [
    "print(len(structured_data))\n",
    "print(len(structured_data[0]))\n",
    "print(len(structured_data[0][0]))"
   ]
  },
  {
   "attachments": {},
   "cell_type": "markdown",
   "metadata": {},
   "source": [
    "Flatten this monster list into a shape of (37574, 16)"
   ]
  },
  {
   "cell_type": "code",
   "execution_count": 41,
   "metadata": {},
   "outputs": [],
   "source": [
    "structured_data = np.array(structured_data)\n",
    "\n",
    "for i in range(len(structured_data)):\n",
    "    structured_data[i] = np.array(structured_data[i]).flatten()"
   ]
  },
  {
   "cell_type": "code",
   "execution_count": 47,
   "metadata": {},
   "outputs": [
    {
     "data": {
      "text/plain": [
       "16"
      ]
     },
     "execution_count": 47,
     "metadata": {},
     "output_type": "execute_result"
    }
   ],
   "source": [
    "len(structured_data[0])"
   ]
  },
  {
   "attachments": {},
   "cell_type": "markdown",
   "metadata": {},
   "source": [
    "Now labels and structured data are the same length and ready to be fed into a network "
   ]
  },
  {
   "cell_type": "code",
   "execution_count": 52,
   "metadata": {},
   "outputs": [],
   "source": [
    "assert len(labels) == len(structured_data)"
   ]
  },
  {
   "attachments": {},
   "cell_type": "markdown",
   "metadata": {},
   "source": [
    "#### 2. Split Data into Training and Testing"
   ]
  },
  {
   "attachments": {},
   "cell_type": "markdown",
   "metadata": {},
   "source": [
    "#### 3. Create Model"
   ]
  },
  {
   "attachments": {},
   "cell_type": "markdown",
   "metadata": {},
   "source": [
    "#### 4. Train"
   ]
  },
  {
   "attachments": {},
   "cell_type": "markdown",
   "metadata": {},
   "source": [
    "#### 5. Evaluate Network"
   ]
  }
 ],
 "metadata": {
  "kernelspec": {
   "display_name": "Python 3",
   "language": "python",
   "name": "python3"
  },
  "language_info": {
   "codemirror_mode": {
    "name": "ipython",
    "version": 3
   },
   "file_extension": ".py",
   "mimetype": "text/x-python",
   "name": "python",
   "nbconvert_exporter": "python",
   "pygments_lexer": "ipython3",
   "version": "3.10.5"
  },
  "orig_nbformat": 4,
  "vscode": {
   "interpreter": {
    "hash": "aee8b7b246df8f9039afb4144a1f6fd8d2ca17a180786b69acc140d282b71a49"
   }
  }
 },
 "nbformat": 4,
 "nbformat_minor": 2
}
