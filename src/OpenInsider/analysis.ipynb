{
 "cells": [
  {
   "attachments": {},
   "cell_type": "markdown",
   "metadata": {},
   "source": [
    "## Data Preparation"
   ]
  },
  {
   "cell_type": "code",
   "execution_count": 1,
   "metadata": {},
   "outputs": [],
   "source": [
    "from typing import Optional\n",
    "from dataclasses import dataclass\n",
    "import pickle\n",
    "from datetime import datetime as dt\n",
    "from datetime import date\n",
    "import pandas as pd\n",
    "import matplotlib.pyplot as plt\n",
    "from scipy.signal import find_peaks\n",
    "import numpy as np\n",
    "import os"
   ]
  },
  {
   "attachments": {},
   "cell_type": "markdown",
   "metadata": {},
   "source": [
    "### Necesarry Helper Functions"
   ]
  },
  {
   "cell_type": "code",
   "execution_count": 37,
   "metadata": {},
   "outputs": [],
   "source": [
    "@dataclass\n",
    "class Form:\n",
    "    # Same for both sources\n",
    "    filing_date: str\n",
    "    trade_date: str\n",
    "    ticker: str\n",
    "    price: float\n",
    "    qty_bought: float\n",
    "    qty_owned: float\n",
    "\n",
    "    #Source: openinsider.com\n",
    "    insider_name_link: Optional[str] = None \n",
    "    company_link: Optional[str] = None\n",
    "    buyer_title: Optional[str] = None\n",
    "    \n",
    "    #Source: SEC Bulk Data\n",
    "    accession_number: Optional[str] = None\n",
    "    insider_name: Optional[str] = None \n",
    "    company_name: Optional[str] = None\n",
    "    insider_relationship: Optional[str] = None \n",
    "    insider_title: Optional[str] = None \n",
    "    fd_index: Optional[int] = None\n",
    "\n",
    "    def __eq__(self, other) -> bool:\n",
    "        return self.filing_date == other.filing_date and self.trade_date == other.trade_date and self.ticker == other.ticker and self.price == other.price and self.qty_bought == other.qty_bought and self.qty_owned == self.qty_owned\n",
    "    \n",
    "    def __ne__(self, other) -> bool:\n",
    "        return not self.__eq__(other)\n",
    "    \n",
    "    def delta_own(self):\n",
    "        if self.qty_owned is None or self.qty_bought is None: raise ValueError(\"Class values were None\")\n",
    "\n",
    "        if self.qty_owned - self.qty_bought == 0:\n",
    "            return 100\n",
    "        else:\n",
    "            return float(self.qty_bought / (self.qty_owned - self.qty_bought)) * 100\n",
    "\n",
    "    def days_ago(self) -> int:\n",
    "        if self.filing_date is None or self.trade_date is None:\n",
    "            raise ValueError(\"Class values were None\")\n",
    "        fd = dt.strptime(self.filing_date, \"%Y-%m-%d\")\n",
    "        td = dt.strptime(self.trade_date,  \"%Y-%m-%d\")\n",
    "        return (fd - td).days\n",
    "  \n",
    "def save_data(data, fname):\n",
    "    \"\"\"\n",
    "    base path is Assets folder\n",
    "    \"\"\"\n",
    "    with open(f\"src/OpenInsider/Assets/{fname}.pkl\", \"wb\") as file:\n",
    "        pickle.dump(data, file)\n",
    "\n",
    "def load_data(fname) -> list:\n",
    "    with open(f\"Assets/{fname}.pkl\", \"rb\") as file:\n",
    "        data = pickle.load(file)\n",
    "        return data\n",
    "\n",
    "def tickers_from_data(forms: list[Form]):\n",
    "    tickers = {}\n",
    "    for form in forms:\n",
    "        tickers[form.ticker] = 1\n",
    "\n",
    "    return [key for key in tickers.keys()]\n",
    "\n",
    "@dataclass\n",
    "class Candle:\n",
    "    date: str\n",
    "    o: float\n",
    "    c: float\n",
    "    h: float\n",
    "    l: float\n",
    "    v: int\n",
    "\n",
    "@dataclass\n",
    "class Trade:\n",
    "    form: Form\n",
    "    candles: list[Candle]\n",
    "    onem_profit: Optional[float] = None\n",
    "    twom_profit: Optional[float] = None\n",
    "    threem_profit: Optional[float] = None\n",
    "\n",
    "    def catalyst_size(self, shift):\n",
    "        \"\"\"\n",
    "        NOTE: candles[0] needs to be at the filing date, and candles[-1] should be the final day\\n\n",
    "        @param n_days is how many days after the filing date the calculations should consider\\n\n",
    "        @param shift is how many days each peak should be shifted to the right by\n",
    "        \"\"\"\n",
    "        avg_peak_val: float = 0.0\n",
    "\n",
    "        closes = [c.c for c in self.candles]\n",
    "        _, peaks = get_peaks(closes, shift)\n",
    "        \n",
    "        if len(peaks) != 0:\n",
    "            for peak in peaks:\n",
    "                avg_peak_val += self.candles[peak].c\n",
    "                # print(f\"{self.candles[peak].c}, {peak}\")\n",
    "            avg_peak_val /= len(peaks)\n",
    "            # print(f\"AVG PEAK: {avg_peak_val}\")\n",
    "            # print(f\"First Close: {self.candles[0].c}\")\n",
    "            return pct_change(self.candles[0].c, avg_peak_val)\n",
    "        \n",
    "        # if there are no peaks (sad face), return absolute change\n",
    "        return pct_change(closes[0], closes[-1])\n",
    "    \n",
    "    def returns(self, days: int, candles: list[Candle] = []) -> float:\n",
    "        \"\"\"\n",
    "        Percent return over (@param days) number of days from close to close\\n\n",
    "        Negative days shows past returns up to the filing date\\n\n",
    "        Used to check the passivity of a certain transaction\\n\n",
    "        \"\"\"\n",
    "        if days > 0:\n",
    "            if len(self.candles) > days:\n",
    "                return pct_change(self.candles[0].c, self.candles[days - 1].c)\n",
    "            \n",
    "        data = []\n",
    "        if len(candles) == 0:\n",
    "            data = get_ticker_data(self.form.ticker)\n",
    "            assert data is not None\n",
    "        else: \n",
    "            data = candles\n",
    "\n",
    "        fdi = self.form.fd_index\n",
    "        assert fdi is not None\n",
    "    \n",
    "        if days < 0:\n",
    "            data = trim_ticker_data(data, fdi, (-days, 1))\n",
    "        elif days > 0:\n",
    "            data = trim_ticker_data(data, fdi, (0, days))\n",
    "        else: return 0\n",
    "\n",
    "        return pct_change(data[0].c, data[-1].c)\n",
    "    \n",
    "def moving_avg(data: list, length: int):\n",
    "    new_data = []\n",
    "    window = []\n",
    "    for d in data:\n",
    "        if len(window) <= length:\n",
    "            window.append(d)\n",
    "        else:\n",
    "            window = window[1:]\n",
    "            window.append(d)\n",
    "\n",
    "        new_data.append(sum(window)/len(window))\n",
    "    return new_data\n",
    "\n",
    "def pct_change(from_, to_):\n",
    "    return ((to_ - from_) / from_) * 100\n",
    "\n",
    "def get_peaks(price_data: list, shift: int):\n",
    "    \"\"\"\n",
    "    @param price_data: list of prices (typically the closing prices)\\n\n",
    "    @param shift: move each peak to the right n-days because seldom will you exit at the true peak of a stock\\n\n",
    "    \"\"\"\n",
    "    ma = moving_avg(price_data, 7)\n",
    "\n",
    "    dist = 7\n",
    "    height_multiplier = 1.05\n",
    "    peaks, _ = find_peaks(ma, distance=dist, height=ma[0] * height_multiplier, width=5) # one week between peaks and peak must be a 5% increase from day 0\n",
    "\n",
    "\n",
    "    while len(peaks) == 0 and dist >= 1:\n",
    "        peaks, _ = find_peaks(ma, distance=dist, width=5) # one week between peaks and peak must be a 5% increase from day 0\n",
    "        dist -= 1\n",
    "\n",
    "    if pct_change(ma[0], ma[-1]) > 5:\n",
    "        peaks = list(peaks)\n",
    "\n",
    "        s = 0.0\n",
    "        for p in peaks:\n",
    "            s += ma[p]\n",
    "\n",
    "        avg_peak_height = s/len(peaks)\n",
    "        if ma[-2] > avg_peak_height:\n",
    "            peaks.append(len(ma) - 2) # add second index from the end\n",
    "\n",
    "    if len(peaks) == 0: return [], []\n",
    "\n",
    "    for i in range(len(peaks)):\n",
    "        if i < len(peaks) - 1:\n",
    "            peaks[i] += shift \n",
    "\n",
    "    return ma, peaks\n",
    "\n",
    "def show_trade(trade: Trade, show_peaks: bool):\n",
    "    prices = pd.DataFrame({\n",
    "        \"high\"  : [candle.h  for candle in trade.candles],\n",
    "        \"low\"   : [candle.l  for candle in trade.candles],\n",
    "        \"open\"  : [candle.o  for candle in trade.candles],\n",
    "        \"close\" : [candle.c  for candle in trade.candles]\n",
    "    })\n",
    "    green  = prices[prices.close >= prices.open] # green candles\n",
    "    red    = prices[prices.close < prices.open] # red candles\n",
    "    w1, w2 = 0.4, 0.02 # width of thick part and width of extrema\n",
    "\n",
    "    _, ax = plt.subplots()\n",
    "    # graph green candles (x, height, width, bottom, color)\n",
    "    ax.bar(green.index, green.close - green.open, w1, green.open, color='green') # thick middle part\n",
    "    ax.bar(green.index, green.high  - green.close, w2, green.close, color='black') # high price\n",
    "    ax.bar(green.index, green.low  - green.open, w2, green.open, color='black') # low price\n",
    "    \n",
    "    ax.bar(red.index, red.close - red.open, w1, red.open, color='red') # thick middle part\n",
    "    ax.bar(red.index, red.high  - red.open, w2, red.open, color='black') # high price\n",
    "    ax.bar(red.index, red.low   - red.close, w2, red.close, color='black') # low price\n",
    "\n",
    "    if show_peaks:\n",
    "        ma, peaks = get_peaks(list(prices.close.array), 3)\n",
    "        ax.plot(ma)\n",
    "        \n",
    "        for peak in peaks:\n",
    "            ax.plot(peak, list(prices.close.array)[peak], \"bo\")\n",
    "\n",
    "\n",
    "    title = f\"{trade.form.ticker} @ {trade.candles[0].date} (FD: {trade.form.filing_date}, TD: {trade.form.trade_date})\"\n",
    "\n",
    "    ax.set_title(title)\n",
    "    plt.show()\n",
    "\n",
    "def get_ticker_data(ticker: str):\n",
    "    \"\"\"\n",
    "    open and return the data associated with a certain ticker\\n\n",
    "    returns None is no data are found\n",
    "    \"\"\"\n",
    "    contents = os.listdir(f\"Assets/Historical_Stock_Data\")\n",
    "    if f\"{ticker}.pkl\" not in contents: return None\n",
    "    else: return load_data(f\"Historical_Stock_Data/{ticker}\")\n",
    "\n",
    "def trim_ticker_data(data: list[Candle], fd_index: int, window: tuple[int, int]):\n",
    "    \"\"\"\n",
    "    @param window is a tuple of how many candles should be included before and after the filing date\\n\n",
    "    \\t --> i.e. (10, 100) means to show from 10 days before to 100 days after\n",
    "    \"\"\"\n",
    "    start = fd_index - window[0] if fd_index - window[0] >= 0 else 0\n",
    "    end = fd_index + window[1] if fd_index + window[1] < len(data) else len(data) - 1\n",
    "    data = data[start : end]\n",
    "    return data\n",
    "\n",
    "def trade_from_histform(form: Form, n_days):\n",
    "    \"\"\"\n",
    "    returns trade object with candles from fd up to (fd + n_days)\n",
    "    \"\"\"\n",
    "    data = get_ticker_data(form.ticker)\n",
    "    if data is None: return\n",
    "\n",
    "    i = form.fd_index\n",
    "    if i is None: \n",
    "        print(\"❌FDI NOT FOUND\")\n",
    "        return\n",
    "\n",
    "    data = data[i:i + n_days]\n",
    "\n",
    "    trade = Trade(\n",
    "        form,\n",
    "        data\n",
    "    )\n",
    "\n",
    "    return trade\n",
    "\n",
    "def show_hist_trade(form: Form, n_days: int, show_peaks: bool):\n",
    "    if form.ticker is None: return\n",
    "    if form.filing_date is None: return\n",
    "\n",
    "    data = get_ticker_data(form.ticker)\n",
    "    if data is None: return\n",
    "\n",
    "    i = form.fd_index\n",
    "    if i is None: \n",
    "        print(\"❌FDI NOT FOUND\")\n",
    "        return\n",
    "\n",
    "    data = data[i : i + n_days]\n",
    "\n",
    "    trade = Trade(\n",
    "        form,\n",
    "        data\n",
    "    )\n",
    "\n",
    "    show_trade(trade, show_peaks)\n",
    "\n",
    "    return trade"
   ]
  },
  {
   "attachments": {},
   "cell_type": "markdown",
   "metadata": {},
   "source": [
    "### Load in Data"
   ]
  },
  {
   "cell_type": "code",
   "execution_count": 36,
   "metadata": {},
   "outputs": [],
   "source": [
    "forms: list[Form] = load_data(\"HistForms\")"
   ]
  },
  {
   "cell_type": "code",
   "execution_count": 60,
   "metadata": {},
   "outputs": [
    {
     "name": "stdout",
     "output_type": "stream",
     "text": [
      "100.00%\r"
     ]
    }
   ],
   "source": [
    "l = len(forms)\n",
    "trades: list[Trade] = []\n",
    "for i, form in enumerate(forms):\n",
    "    print(f\"{i/(l - 1)*100:.2f}%\", end='\\r')\n",
    "    t = trade_from_histform(form, 100)\n",
    "    if t is not None: # * this line ensures each trade has data!\n",
    "        trades.append(t)\n",
    "\n",
    "trades = list(filter(lambda x: len(x.candles) > 0 and x.candles is not None, trades)) # filter such that..."
   ]
  },
  {
   "attachments": {},
   "cell_type": "markdown",
   "metadata": {},
   "source": [
    "### Ensure Successful Loading"
   ]
  },
  {
   "cell_type": "code",
   "execution_count": 4,
   "metadata": {},
   "outputs": [
    {
     "ename": "NameError",
     "evalue": "name 'trades' is not defined",
     "output_type": "error",
     "traceback": [
      "\u001b[0;31m---------------------------------------------------------------------------\u001b[0m",
      "\u001b[0;31mNameError\u001b[0m                                 Traceback (most recent call last)",
      "Cell \u001b[0;32mIn[4], line 1\u001b[0m\n\u001b[0;32m----> 1\u001b[0m trade \u001b[39m=\u001b[39m show_hist_trade(trades[\u001b[39m10\u001b[39m]\u001b[39m.\u001b[39mform, \u001b[39m100\u001b[39m, \u001b[39mFalse\u001b[39;00m) \u001b[39m# set result to a variable so it doesn't print it out\u001b[39;00m\n",
      "\u001b[0;31mNameError\u001b[0m: name 'trades' is not defined"
     ]
    }
   ],
   "source": [
    "trade = show_hist_trade(trades[10].form, 100, False) # set result to a variable so it doesn't print it out"
   ]
  },
  {
   "cell_type": "code",
   "execution_count": null,
   "metadata": {},
   "outputs": [],
   "source": [
    "trades[10].returns(30)"
   ]
  },
  {
   "cell_type": "code",
   "execution_count": null,
   "metadata": {},
   "outputs": [],
   "source": [
    "trades[10].returns(60)"
   ]
  },
  {
   "cell_type": "code",
   "execution_count": null,
   "metadata": {},
   "outputs": [],
   "source": [
    "trades[10].returns(90)"
   ]
  },
  {
   "attachments": {},
   "cell_type": "markdown",
   "metadata": {},
   "source": [
    "### Track the Insider and Company in Question"
   ]
  },
  {
   "cell_type": "code",
   "execution_count": 63,
   "metadata": {},
   "outputs": [],
   "source": [
    "def get_insider_and_company_dict(trades: list[Trade]) -> tuple[dict[str, list[Trade]], dict[str, list[Trade]]]:\n",
    "    # get dictionary of \"insider name\" : [forms...]\n",
    "    insider_dict: dict[str, list[Trade]] = {}\n",
    "    # get dictionary of \"ticker\" : [forms...]\n",
    "    company_dict: dict[str, list[Trade]] = {}\n",
    "\n",
    "    for trade in trades:\n",
    "        iname = trade.form.insider_name\n",
    "        if iname is None: continue\n",
    "        if iname not in insider_dict:\n",
    "            insider_dict[iname] = [trade]\n",
    "        else:\n",
    "            insider_dict[iname].append(trade)\n",
    "\n",
    "        cname = trade.form.ticker\n",
    "        if cname is None: continue\n",
    "        if cname not in company_dict:\n",
    "            company_dict[cname] = [trade]\n",
    "        else:\n",
    "            company_dict[cname].append(trade)\n",
    "        \n",
    "    return insider_dict, company_dict"
   ]
  },
  {
   "cell_type": "code",
   "execution_count": 64,
   "metadata": {},
   "outputs": [],
   "source": [
    "def get_cluster_score(curr: Trade, company_trades: list[Trade]):\n",
    "    cd = dt.strptime(curr.form.trade_date, \"%Y-%m-%d\")\n",
    "\n",
    "    cluster_score = 0\n",
    "    for t in company_trades:\n",
    "        td = dt.strptime(t.form.trade_date, \"%Y-%m-%d\")\n",
    "        if (cd - td).days < 30:\n",
    "            cluster_score += 1\n",
    "    \n",
    "    return cluster_score"
   ]
  },
  {
   "attachments": {},
   "cell_type": "markdown",
   "metadata": {},
   "source": [
    "### Map Insider Job Title to Numbers"
   ]
  },
  {
   "attachments": {},
   "cell_type": "markdown",
   "metadata": {},
   "source": [
    "- Other = 1\n",
    "- 10% owners = 2\n",
    "- Director = 3\n",
    "- Officer = 4\n",
    "- Vice President (EVP or SVP) = 5\n",
    "- President = 6"
   ]
  },
  {
   "cell_type": "code",
   "execution_count": 65,
   "metadata": {},
   "outputs": [],
   "source": [
    "def map_insider_title(f: Form) -> int:\n",
    "    r = f.insider_relationship\n",
    "    assert r is not None\n",
    "    r = r.lower()\n",
    "\n",
    "    if \"other\" in r:\n",
    "        return 1\n",
    "\n",
    "    if \"tenpercentowner\" in r:\n",
    "        return 2\n",
    "    \n",
    "    if \"director\" in r:\n",
    "        return 3\n",
    "    \n",
    "    if \"officer\" in r:\n",
    "        t = f.insider_title\n",
    "        assert t is not None\n",
    "        t = t.lower()\n",
    "\n",
    "        if \"vice president\" in t or \"svp\" in t or \"evp\" in t:\n",
    "            # must be before the check for president\n",
    "            return 5\n",
    "        \n",
    "        if \"president\" in t:\n",
    "            return 6\n",
    "        \n",
    "        return 4\n",
    "\n",
    "    #* tested on all forms and never reached\n",
    "    return 0"
   ]
  },
  {
   "attachments": {},
   "cell_type": "markdown",
   "metadata": {},
   "source": [
    "### Determine Output Profit Ranges"
   ]
  },
  {
   "cell_type": "code",
   "execution_count": 14,
   "metadata": {},
   "outputs": [],
   "source": [
    "import numpy as np\n",
    "\n",
    "data = []\n",
    "\n",
    "l = len(trades)\n",
    "for i, t in enumerate(trades):\n",
    "    data.append(\n",
    "        sum([t.returns(30), t.returns(60), t.returns(90)])/3\n",
    "    )\n",
    "\n",
    "median = np.median(data)\n",
    "q3 = np.percentile(data, 75)\n",
    "q1 = np.percentile(data, 25)\n",
    "\n",
    "iqr = q3 - q1\n",
    "upper_outlier = q3+1.5*iqr\n",
    "lower_outlier = q1-1.5*iqr\n",
    "upper_whisker = max(list(filter(lambda x: x <= upper_outlier, data)))\n",
    "lower_whisker = min(list(filter(lambda x: x >= lower_outlier, data)))"
   ]
  },
  {
   "attachments": {},
   "cell_type": "markdown",
   "metadata": {},
   "source": [
    "##### Output Profit Ranges (%)\n",
    "\n",
    "- Outlier Profit = >50\n",
    "- Big Profit = (14, 50]\n",
    "- Moderate Profit = (1-14]\n",
    "- Stagnation = [-1, 1]\n",
    "- Moderate Loss = (-1, -10]\n",
    "- Big Loss = (-10, -46]\n",
    "- Outlier Loss = <-46"
   ]
  },
  {
   "attachments": {},
   "cell_type": "markdown",
   "metadata": {},
   "source": [
    "## Neural Network Development"
   ]
  },
  {
   "cell_type": "code",
   "execution_count": 66,
   "metadata": {},
   "outputs": [],
   "source": [
    "import tensorflow as tf\n",
    "keras = tf.keras"
   ]
  },
  {
   "cell_type": "code",
   "execution_count": null,
   "metadata": {},
   "outputs": [],
   "source": [
    "i_dict, c_dict = get_insider_and_company_dict(trades)\n",
    "\n",
    "data = []\n",
    "labels = []\n",
    "l = len(trades)\n",
    "for i, trade in enumerate(trades):\n",
    "    print(f\"{i/(l - 1)*100: .2f}%\", end=\"\\r\")\n",
    "    try:\n",
    "        name = trade.form.insider_name\n",
    "        if name is None: continue\n",
    "\n",
    "        profit = trade.returns(90)\n",
    "\n",
    "        i_profits = [(trade.form.qty_bought * trade.form.price) * profit/100 for trade in i_dict[name]]\n",
    "        wins = list(filter(lambda x: x > 0, i_profits))\n",
    "        losses = list(filter(lambda x: x < 0, i_profits))\n",
    "        \n",
    "        row = [\n",
    "            trade.form.qty_bought, trade.form.price, trade.form.delta_own(), map_insider_title(trade.form),\n",
    "            trade.returns(-30), get_cluster_score(trade, c_dict[trade.form.ticker]), trade.form.days_ago(),    \n",
    "        ]\n",
    "        if len(i_profits) > 0:\n",
    "            row.append(sum(i_profits)/len(i_profits))\n",
    "        else:\n",
    "            row.append(0)\n",
    "\n",
    "        # if len(wins) > 0:\n",
    "        #     row.append(sum(wins)/len(wins))\n",
    "        #     row.append(len(wins))\n",
    "        # else:\n",
    "        #     row.append(0)\n",
    "        #     row.append(0)\n",
    "\n",
    "        # if len(losses) > 0:\n",
    "        #     row.append(sum(losses)/len(losses))\n",
    "        #     row.append(len(losses))\n",
    "        # else:\n",
    "        #     row.append(0)\n",
    "        #     row.append(0)\n",
    "\n",
    "        data.append(row)\n",
    "\n",
    "        zeros = np.zeros(7)\n",
    "        if profit > 50:\n",
    "            zeros[0] = 1\n",
    "        elif profit > 14 and profit <= 50:\n",
    "            zeros[1] = 1\n",
    "        elif profit > 1 and profit <= 14:\n",
    "            zeros[2] = 1\n",
    "        elif profit >= -1 and profit <= 1:\n",
    "            zeros[3] = 1\n",
    "        elif profit < -1 and profit >= -10:\n",
    "            zeros[4] = 1\n",
    "        elif profit < -10 and profit >= -46:\n",
    "            zeros[5] = 1\n",
    "        elif profit < -46:\n",
    "            zeros[6] =1\n",
    "\n",
    "        labels.append(zeros)\n",
    "    except Exception as err:\n",
    "        print(f\"{type(err)} @ {i}\")"
   ]
  },
  {
   "attachments": {},
   "cell_type": "markdown",
   "metadata": {},
   "source": [
    "#### Data Structure\n",
    "- Number of shares bought\n",
    "- Price per share\n",
    "- Percent change in ownership\n",
    "- Insider position\n",
    "- Previous 30 day returns\n",
    "- Cluster score\n",
    "- Days between filing and trading\n",
    "- Average profit of insider's previous transactions"
   ]
  },
  {
   "cell_type": "code",
   "execution_count": 68,
   "metadata": {},
   "outputs": [
    {
     "data": {
      "text/plain": [
       "[38124.54,\n",
       " 19.06,\n",
       " -105.5364026780687,\n",
       " 3,\n",
       " 131.62790697674419,\n",
       " 22,\n",
       " 2,\n",
       " -14259.99319051245]"
      ]
     },
     "execution_count": 68,
     "metadata": {},
     "output_type": "execute_result"
    }
   ],
   "source": [
    "data[4]"
   ]
  },
  {
   "cell_type": "code",
   "execution_count": 72,
   "metadata": {},
   "outputs": [],
   "source": [
    "import math\n",
    "train_data, train_labels = np.array(data[:math.floor(len(data)*5/6)]), np.array(labels[:math.floor(len(data)*5/6)])\n",
    "test_data, test_labels = np.array(data[math.floor(len(data)*5/6):]), np.array(labels[math.floor(len(data)*5/6):])"
   ]
  },
  {
   "cell_type": "code",
   "execution_count": 73,
   "metadata": {},
   "outputs": [
    {
     "data": {
      "text/plain": [
       "(31369, 8)"
      ]
     },
     "execution_count": 73,
     "metadata": {},
     "output_type": "execute_result"
    }
   ],
   "source": [
    "train_data.shape"
   ]
  },
  {
   "cell_type": "code",
   "execution_count": 74,
   "metadata": {},
   "outputs": [],
   "source": [
    "os.environ['TF_CPP_MIN_LOG_LEVEL'] = '2' # hide warnings\n",
    "\n",
    "model = tf.keras.Sequential([\n",
    "    tf.keras.layers.Input(shape=(train_data.shape[1],)),\n",
    "    tf.keras.layers.Dense(100, activation='tanh'),\n",
    "    tf.keras.layers.Dense(50, activation='tanh'),\n",
    "    tf.keras.layers.Dense(7)\n",
    "])\n",
    "\n",
    "model.compile(\n",
    "    optimizer='adam',\n",
    "    loss=tf.keras.losses.MeanSquaredLogarithmicError(),\n",
    "    metrics=['accuracy']\n",
    ")"
   ]
  },
  {
   "cell_type": "code",
   "execution_count": 75,
   "metadata": {},
   "outputs": [
    {
     "name": "stdout",
     "output_type": "stream",
     "text": [
      "31369/31369 [==============================] - 50s 2ms/step - loss: 0.0521 - accuracy: 0.4697\n"
     ]
    }
   ],
   "source": [
    "history = model.fit(train_data, train_labels, epochs=1, batch_size=1)"
   ]
  },
  {
   "cell_type": "code",
   "execution_count": 76,
   "metadata": {},
   "outputs": [
    {
     "name": "stdout",
     "output_type": "stream",
     "text": [
      "197/197 [==============================] - 1s 2ms/step - loss: 0.0483 - accuracy: 0.4901\n",
      "0.4901179373264313\n"
     ]
    }
   ],
   "source": [
    "test_loss, test_acc = model.evaluate(test_data, test_labels)\n",
    "print(test_acc)"
   ]
  },
  {
   "cell_type": "code",
   "execution_count": null,
   "metadata": {},
   "outputs": [],
   "source": [
    "model.save(\"Models/First\")"
   ]
  },
  {
   "cell_type": "code",
   "execution_count": 82,
   "metadata": {},
   "outputs": [
    {
     "name": "stdout",
     "output_type": "stream",
     "text": [
      "Model: \"sequential\"\n",
      "_________________________________________________________________\n",
      " Layer (type)                Output Shape              Param #   \n",
      "=================================================================\n",
      " dense (Dense)               (None, 100)               900       \n",
      "                                                                 \n",
      " dense_1 (Dense)             (None, 50)                5050      \n",
      "                                                                 \n",
      " dense_2 (Dense)             (None, 7)                 357       \n",
      "                                                                 \n",
      "=================================================================\n",
      "Total params: 6,307\n",
      "Trainable params: 6,307\n",
      "Non-trainable params: 0\n",
      "_________________________________________________________________\n"
     ]
    }
   ],
   "source": [
    "model = keras.models.load_model(\"Models/First\")\n",
    "if model is None: raise ValueError()\n",
    "model.summary()"
   ]
  }
 ],
 "metadata": {
  "kernelspec": {
   "display_name": "Python 3",
   "language": "python",
   "name": "python3"
  },
  "language_info": {
   "codemirror_mode": {
    "name": "ipython",
    "version": 3
   },
   "file_extension": ".py",
   "mimetype": "text/x-python",
   "name": "python",
   "nbconvert_exporter": "python",
   "pygments_lexer": "ipython3",
   "version": "3.10.5"
  },
  "orig_nbformat": 4,
  "vscode": {
   "interpreter": {
    "hash": "aee8b7b246df8f9039afb4144a1f6fd8d2ca17a180786b69acc140d282b71a49"
   }
  }
 },
 "nbformat": 4,
 "nbformat_minor": 2
}
